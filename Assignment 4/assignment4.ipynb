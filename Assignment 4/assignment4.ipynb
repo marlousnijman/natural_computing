{
 "cells": [
  {
   "cell_type": "markdown",
   "metadata": {},
   "source": [
    "# Assignment 4"
   ]
  },
  {
   "cell_type": "markdown",
   "metadata": {},
   "source": [
    "## Imports"
   ]
  },
  {
   "cell_type": "code",
   "execution_count": 1,
   "metadata": {},
   "outputs": [],
   "source": [
    "import os\n",
    "import numpy as np\n",
    "import matplotlib.pyplot as plt\n",
    "import pandas as pd"
   ]
  },
  {
   "cell_type": "markdown",
   "metadata": {},
   "source": [
    "## Helper Functions"
   ]
  },
  {
   "cell_type": "code",
   "execution_count": 2,
   "metadata": {},
   "outputs": [],
   "source": [
    "def integrate(x, y):\n",
    "    sm = 0\n",
    "    for i in range(1, len(x)):\n",
    "        h = x[i] - x[i-1]\n",
    "        sm += h * (y[i-1] + y[i]) / 2\n",
    "\n",
    "    return sm"
   ]
  },
  {
   "cell_type": "code",
   "execution_count": 3,
   "metadata": {},
   "outputs": [],
   "source": [
    "def compute_sens_spec_lang(lang1, lang2):\n",
    "    lang1 = np.array([lang1, [0] * len(lang1)])\n",
    "    lang2 = np.array([lang2, [1] * len(lang2)])\n",
    "    \n",
    "    data = np.hstack([lang1, lang2])\n",
    "    \n",
    "    data = data[:, np.argsort(data[0, :])]\n",
    "\n",
    "    cutoff_points = np.unique(data[0, :])\n",
    "    cutoff_points = np.append(cutoff_points, max(cutoff_points)+1)\n",
    "\n",
    "    sensitivity = []\n",
    "    specificity = []\n",
    "    \n",
    "    for cutoff_point in cutoff_points:\n",
    "        cutoff_index = np.where(data[0,:] == cutoff_point)[0]\n",
    "              \n",
    "        if len(cutoff_index) == 0:\n",
    "            cutoff_index = [data.shape[1]] \n",
    "        \n",
    "        sensitivity.append((data[1,cutoff_index[0]:] == 1).sum() / (data[1] == 1).sum())\n",
    "        specificity.append((data[1,:cutoff_index[0]] == 0).sum() / (data[1] == 0).sum())\n",
    "\n",
    "        \n",
    "    return sensitivity, specificity"
   ]
  },
  {
   "cell_type": "code",
   "execution_count": 4,
   "metadata": {},
   "outputs": [],
   "source": [
    "def compute_sens_spec_syscall(syscall1, syscall2):\n",
    "    data = np.vstack([syscall1, syscall2])\n",
    "    data = data[:, np.argsort(data[0, :])]\n",
    "    \n",
    "    cutoff_points = np.unique(data[0, :])\n",
    "    cutoff_points = np.append(cutoff_points, max(cutoff_points)+1)\n",
    "\n",
    "    sensitivity = []\n",
    "    specificity = []\n",
    "    \n",
    "    for cutoff_point in cutoff_points:\n",
    "        cutoff_index = np.where(data[0,:] == cutoff_point)[0]\n",
    "              \n",
    "        if len(cutoff_index) == 0:\n",
    "            cutoff_index = [data.shape[1]] \n",
    "        \n",
    "        sensitivity.append((data[1,cutoff_index[0]:] == 1).sum() / (data[1] == 1).sum())\n",
    "        specificity.append((data[1,:cutoff_index[0]] == 0).sum() / (data[1] == 0).sum())\n",
    "        \n",
    "    return sensitivity, specificity"
   ]
  },
  {
   "cell_type": "markdown",
   "metadata": {},
   "source": [
    "## Assignment 1.1 & 1.2"
   ]
  },
  {
   "cell_type": "markdown",
   "metadata": {},
   "source": [
    "### Parameters"
   ]
  },
  {
   "cell_type": "code",
   "execution_count": 5,
   "metadata": {},
   "outputs": [],
   "source": [
    "ns_dir = \"negative-selection\"\n",
    "languages = [\"english\", \"tagalog\"]\n",
    "n = 10\n",
    "r = 1"
   ]
  },
  {
   "cell_type": "markdown",
   "metadata": {},
   "source": [
    "### Load Data"
   ]
  },
  {
   "cell_type": "code",
   "execution_count": 6,
   "metadata": {},
   "outputs": [],
   "source": [
    "for language in languages:\n",
    "    os.system(f\"cmd /c java -jar {ns_dir}/negsel2.jar -self {ns_dir}/english.train -n {n} \" + \n",
    "              f\"-r {r} -c -l < {ns_dir}/{language}.test > {language}_r{r}.txt\")"
   ]
  },
  {
   "cell_type": "code",
   "execution_count": 7,
   "metadata": {},
   "outputs": [],
   "source": [
    "english = np.loadtxt(f\"english_r{r}.txt\")\n",
    "tagalog = np.loadtxt(f\"tagalog_r{r}.txt\")"
   ]
  },
  {
   "cell_type": "markdown",
   "metadata": {},
   "source": [
    "### Compute Sensitvity & Specificity"
   ]
  },
  {
   "cell_type": "code",
   "execution_count": 8,
   "metadata": {},
   "outputs": [],
   "source": [
    "sensitivity, specificity = compute_sens_spec_lang(english, tagalog)"
   ]
  },
  {
   "cell_type": "code",
   "execution_count": 9,
   "metadata": {},
   "outputs": [
    {
     "data": {
      "text/plain": [
       "True"
      ]
     },
     "execution_count": 9,
     "metadata": {},
     "output_type": "execute_result"
    }
   ],
   "source": [
    "len(specificity) == len(sensitivity)"
   ]
  },
  {
   "cell_type": "markdown",
   "metadata": {},
   "source": [
    "### Plot"
   ]
  },
  {
   "cell_type": "code",
   "execution_count": 10,
   "metadata": {},
   "outputs": [
    {
     "data": {
      "image/png": "[encoded data removed]",
      "text/plain": [
       "<Figure size 432x288 with 1 Axes>"
      ]
     },
     "metadata": {
      "needs_background": "light"
     },
     "output_type": "display_data"
    }
   ],
   "source": [
    "plt.plot(1-np.asarray(specificity), sensitivity)\n",
    "plt.xlabel(\"1 - Specificity\")\n",
    "plt.ylabel(\"Sensitivity\")\n",
    "plt.title(\"AUC Curve\")\n",
    "plt.savefig(f\"images/english-tagalog-r{r}.png\")\n",
    "plt.show()"
   ]
  },
  {
   "cell_type": "markdown",
   "metadata": {},
   "source": [
    "### Compute AUC"
   ]
  },
  {
   "cell_type": "code",
   "execution_count": 11,
   "metadata": {},
   "outputs": [
    {
     "name": "stdout",
     "output_type": "stream",
     "text": [
      "AUC score: 0.5435347184253692\n"
     ]
    }
   ],
   "source": [
    "auc_score = integrate(np.asarray(specificity), sensitivity) \n",
    "print(f\"AUC score: {auc_score}\")"
   ]
  },
  {
   "cell_type": "markdown",
   "metadata": {},
   "source": [
    "## Assignment 1.3"
   ]
  },
  {
   "cell_type": "markdown",
   "metadata": {},
   "source": [
    "### Parameters"
   ]
  },
  {
   "cell_type": "code",
   "execution_count": 12,
   "metadata": {},
   "outputs": [],
   "source": [
    "ns_dir = \"negative-selection\"\n",
    "lan_dir = \"lang\"\n",
    "languages = [\"english\", \"hiligaynon\", \"middle-english\", \"plautdietsch\", \"xhosa\"]\n",
    "n = 10\n",
    "r = 3"
   ]
  },
  {
   "cell_type": "markdown",
   "metadata": {},
   "source": [
    "### Load Data"
   ]
  },
  {
   "cell_type": "code",
   "execution_count": 13,
   "metadata": {},
   "outputs": [],
   "source": [
    "for language in languages:\n",
    "    os.system(f\"cmd /c java -jar {ns_dir}/negsel2.jar -self {ns_dir}/english.train -n {n} \" + \n",
    "              f\"-r {r} -c -l < {ns_dir}/{lan_dir}/{language}.txt > {language}_r{r}.txt\")"
   ]
  },
  {
   "cell_type": "code",
   "execution_count": 14,
   "metadata": {},
   "outputs": [],
   "source": [
    "english = np.loadtxt(f\"english_r{r}.txt\")\n",
    "hiligaynon = np.loadtxt(f\"hiligaynon_r{r}.txt\")\n",
    "middle_english = np.loadtxt(f\"middle-english_r{r}.txt\")\n",
    "plautdietsch = np.loadtxt(f\"plautdietsch_r{r}.txt\")\n",
    "xhosa = np.loadtxt(f\"xhosa_r{r}.txt\")"
   ]
  },
  {
   "cell_type": "code",
   "execution_count": 15,
   "metadata": {},
   "outputs": [],
   "source": [
    "other_langs = [hiligaynon, middle_english, plautdietsch, xhosa]"
   ]
  },
  {
   "cell_type": "markdown",
   "metadata": {},
   "source": [
    "### Compute Sensitvity & Specificity"
   ]
  },
  {
   "cell_type": "code",
   "execution_count": 16,
   "metadata": {},
   "outputs": [
    {
     "data": {
      "image/png": "[encoded data removed]",
      "text/plain": [
       "<Figure size 432x288 with 1 Axes>"
      ]
     },
     "metadata": {
      "needs_background": "light"
     },
     "output_type": "display_data"
    }
   ],
   "source": [
    "all_sensitivity = []\n",
    "all_specificity = []\n",
    "\n",
    "for i, lang in enumerate(other_langs):\n",
    "    # Computing scores\n",
    "    sensitivity, specificity = compute_sens_spec_lang(english, lang)\n",
    "    all_sensitivity.append(sensitivity)\n",
    "    all_specificity.append(specificity)\n",
    "    \n",
    "    # Plotting\n",
    "    plt.plot(1-np.asarray(specificity), sensitivity, label=f\"{languages[i+1]}\")\n",
    "    plt.xlabel(\"1 - Specificity\")\n",
    "    plt.ylabel(\"Sensitivity\")\n",
    "    plt.legend()\n",
    "    plt.title(\"AUC Curve\")\n",
    "    plt.savefig(\"images/other_languages.png\")    "
   ]
  },
  {
   "cell_type": "markdown",
   "metadata": {},
   "source": [
    "### Compute AUC"
   ]
  },
  {
   "cell_type": "code",
   "execution_count": 17,
   "metadata": {},
   "outputs": [
    {
     "name": "stdout",
     "output_type": "stream",
     "text": [
      "AUC score for hiligaynon: 0.84\n",
      "AUC score for middle-english: 0.54\n",
      "AUC score for plautdietsch: 0.77\n",
      "AUC score for xhosa: 0.89\n"
     ]
    }
   ],
   "source": [
    "for i in range(len(all_specificity)):\n",
    "    auc_score = integrate(np.asarray(all_specificity[i]), all_sensitivity[i])\n",
    "    print(f\"AUC score for {languages[i+1]}: {auc_score:.2f}\")"
   ]
  },
  {
   "cell_type": "markdown",
   "metadata": {},
   "source": [
    "## Assignment 2"
   ]
  },
  {
   "cell_type": "markdown",
   "metadata": {},
   "source": [
    "### Parameters"
   ]
  },
  {
   "cell_type": "code",
   "execution_count": 18,
   "metadata": {},
   "outputs": [],
   "source": [
    "ns_dir = \"negative-selection\"\n",
    "lan_dir = \"syscalls/snd-cert\"\n",
    "n = 7\n",
    "r = 5"
   ]
  },
  {
   "cell_type": "markdown",
   "metadata": {},
   "source": [
    "### Preprocess Data"
   ]
  },
  {
   "cell_type": "markdown",
   "metadata": {},
   "source": [
    "#### Training Data"
   ]
  },
  {
   "cell_type": "code",
   "execution_count": 19,
   "metadata": {},
   "outputs": [],
   "source": [
    "with open(f\"{ns_dir}/{lan_dir}/snd-cert.train\") as f:\n",
    "    train = f.read().splitlines()"
   ]
  },
  {
   "cell_type": "code",
   "execution_count": 20,
   "metadata": {},
   "outputs": [],
   "source": [
    "def preprocess_train(strings):\n",
    "    all_chunks = []\n",
    "    for s in strings:\n",
    "        chunks = [s[i: j] for i in range(len(s)) for j in range(i + 1, len(s) + 1) if len(s[i:j]) == n]\n",
    "        all_chunks.extend(chunks)\n",
    "        \n",
    "    return all_chunks"
   ]
  },
  {
   "cell_type": "code",
   "execution_count": 21,
   "metadata": {},
   "outputs": [],
   "source": [
    "chunks = preprocess_train(train)"
   ]
  },
  {
   "cell_type": "code",
   "execution_count": 22,
   "metadata": {},
   "outputs": [],
   "source": [
    "with open(f'{ns_dir}/{lan_dir}/p-snd-cert.train','w') as f:\n",
    "      f.write('\\n'.join(chunks))"
   ]
  },
  {
   "cell_type": "markdown",
   "metadata": {},
   "source": [
    "#### Testing Data"
   ]
  },
  {
   "cell_type": "code",
   "execution_count": 23,
   "metadata": {},
   "outputs": [],
   "source": [
    "with open(f\"{ns_dir}/{lan_dir}/snd-cert.3.test\") as f:\n",
    "    test = f.read().splitlines()"
   ]
  },
  {
   "cell_type": "code",
   "execution_count": 24,
   "metadata": {},
   "outputs": [],
   "source": [
    "with open(f\"{ns_dir}/{lan_dir}/snd-cert.3.labels\") as f:\n",
    "    labels = f.read().splitlines()"
   ]
  },
  {
   "cell_type": "code",
   "execution_count": 25,
   "metadata": {},
   "outputs": [],
   "source": [
    "def preprocess_test(strings):\n",
    "    all_chunks = []\n",
    "    all_ids = []\n",
    "    \n",
    "    for id, s in enumerate(strings):\n",
    "        chunks = [s[i: j] for i in range(len(s)) for j in range(i + 1, len(s) + 1) if len(s[i:j]) == n]\n",
    "        all_chunks.extend(chunks)\n",
    "        \n",
    "        ids = [id] * len(chunks)\n",
    "        all_ids.extend(ids)\n",
    "        \n",
    "    return np.asarray(all_chunks), np.asarray(all_ids) "
   ]
  },
  {
   "cell_type": "code",
   "execution_count": 26,
   "metadata": {},
   "outputs": [],
   "source": [
    "chunks, ids = preprocess_test(test)"
   ]
  },
  {
   "cell_type": "markdown",
   "metadata": {},
   "source": [
    "### Compute Average Anomaly Score "
   ]
  },
  {
   "cell_type": "code",
   "execution_count": 27,
   "metadata": {},
   "outputs": [],
   "source": [
    "mean_pred = []\n",
    "for i in range(max(ids)+1):\n",
    "    # Select all chunks belonging to a single system call\n",
    "    selected_chunks = chunks[ids == i]\n",
    "    \n",
    "    # Save selected chunks\n",
    "    with open(f'{ns_dir}/{lan_dir}/p-snd-cert.test','w') as f:\n",
    "        f.write('\\n'.join(selected_chunks))\n",
    "    \n",
    "    # Perform negative selection\n",
    "    os.system(f\"cmd /c java -jar {ns_dir}/negsel2.jar -alphabet file://{ns_dir}/{lan_dir}/snd-cert.alpha -self {ns_dir}/{lan_dir}/p-snd-cert.train -n {n} \" + \n",
    "          f\"-r {r} -c -l < {ns_dir}/{lan_dir}/p-snd-cert.test > snd_cert_r{r}.txt\")\n",
    "    \n",
    "    # Compute average anomaly score \n",
    "    pred = np.loadtxt(f\"snd_cert_r{r}.txt\")\n",
    "    mean_pred.append(np.mean(pred))"
   ]
  },
  {
   "cell_type": "markdown",
   "metadata": {},
   "source": [
    "### Get Labels"
   ]
  },
  {
   "cell_type": "code",
   "execution_count": 28,
   "metadata": {},
   "outputs": [],
   "source": [
    "labels = [int(i) for i in labels]"
   ]
  },
  {
   "cell_type": "markdown",
   "metadata": {},
   "source": [
    "### Compute Sensitvity & Specificity"
   ]
  },
  {
   "cell_type": "code",
   "execution_count": 29,
   "metadata": {},
   "outputs": [],
   "source": [
    "sensitivity, specificity = compute_sens_spec_syscall(mean_pred, labels)"
   ]
  },
  {
   "cell_type": "markdown",
   "metadata": {},
   "source": [
    "### Plot"
   ]
  },
  {
   "cell_type": "code",
   "execution_count": 30,
   "metadata": {},
   "outputs": [
    {
     "data": {
      "image/png": "[encoded data removed]",
      "text/plain": [
       "<Figure size 432x288 with 1 Axes>"
      ]
     },
     "metadata": {
      "needs_background": "light"
     },
     "output_type": "display_data"
    }
   ],
   "source": [
    "plt.plot(1-np.asarray(specificity), sensitivity)\n",
    "plt.xlabel(\"1 - Specificity\")\n",
    "plt.ylabel(\"Sensitivity\")\n",
    "plt.title(\"AUC Curve\")\n",
    "plt.savefig(\"images/syscalls.png\")\n",
    "plt.show()"
   ]
  },
  {
   "cell_type": "markdown",
   "metadata": {},
   "source": [
    "### Compute AUC"
   ]
  },
  {
   "cell_type": "code",
   "execution_count": 31,
   "metadata": {},
   "outputs": [
    {
     "name": "stdout",
     "output_type": "stream",
     "text": [
      "AUC score: 0.96\n"
     ]
    }
   ],
   "source": [
    "auc_score = integrate(np.asarray(specificity), sensitivity) \n",
    "print(f\"AUC score: {auc_score:.2f}\")"
   ]
  },
  {
   "cell_type": "code",
   "execution_count": null,
   "metadata": {},
   "outputs": [],
   "source": []
  }
 ],
 "metadata": {
  "kernelspec": {
   "display_name": "Python 3",
   "language": "python",
   "name": "python3"
  },
  "language_info": {
   "codemirror_mode": {
    "name": "ipython",
    "version": 3
   },
   "file_extension": ".py",
   "mimetype": "text/x-python",
   "name": "python",
   "nbconvert_exporter": "python",
   "pygments_lexer": "ipython3",
   "version": "3.7.6"
  }
 },
 "nbformat": 4,
 "nbformat_minor": 4
}
