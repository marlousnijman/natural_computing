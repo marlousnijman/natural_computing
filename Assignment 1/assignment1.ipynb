{
 "cells": [
  {
   "cell_type": "markdown",
   "metadata": {},
   "source": [
    "# Assignment 1 - Evolutionary Computation"
   ]
  },
  {
   "cell_type": "markdown",
   "metadata": {},
   "source": [
    "## Imports"
   ]
  },
  {
   "cell_type": "code",
   "execution_count": 1,
   "metadata": {},
   "outputs": [],
   "source": [
    "import numpy as np\n",
    "from tabulate import tabulate\n",
    "import random\n",
    "import matplotlib.pyplot as plt"
   ]
  },
  {
   "cell_type": "markdown",
   "metadata": {},
   "source": [
    "## Load Data"
   ]
  },
  {
   "cell_type": "code",
   "execution_count": 2,
   "metadata": {},
   "outputs": [],
   "source": [
    "tsp_problem = np.loadtxt(\"file-tsp.txt\")"
   ]
  },
  {
   "cell_type": "markdown",
   "metadata": {},
   "source": [
    "## Exercise 1 - Schemata"
   ]
  },
  {
   "cell_type": "markdown",
   "metadata": {},
   "source": [
    "#### Answer"
   ]
  },
  {
   "cell_type": "code",
   "execution_count": 3,
   "metadata": {},
   "outputs": [
    {
     "name": "stdout",
     "output_type": "stream",
     "text": [
      "First Schema:  0.96059601\n",
      "Second Schema:  0.531441\n"
     ]
    }
   ],
   "source": [
    "print(\"First Schema: \",(1-0.01)**4)\n",
    "print(\"Second Schema: \",(1-0.1)**6)\n"
   ]
  },
  {
   "cell_type": "markdown",
   "metadata": {},
   "source": [
    "## Exercise 2 - Building Block Hypothesis"
   ]
  },
  {
   "cell_type": "markdown",
   "metadata": {},
   "source": [
    "#### Answer\n",
    "threshold breintje\n"
   ]
  },
  {
   "cell_type": "markdown",
   "metadata": {},
   "source": [
    "## Exercise 3 - Selection Pressure"
   ]
  },
  {
   "cell_type": "code",
   "execution_count": 4,
   "metadata": {},
   "outputs": [],
   "source": [
    "def fitness1(x):\n",
    "    return x**2\n",
    "\n",
    "def fitness2(x):\n",
    "    return x+20"
   ]
  },
  {
   "cell_type": "code",
   "execution_count": 5,
   "metadata": {},
   "outputs": [
    {
     "name": "stdout",
     "output_type": "stream",
     "text": [
      "+-----+-----------+----------+\n",
      "|   x |   fitness |   chance |\n",
      "+=====+===========+==========+\n",
      "|   2 |         4 | 0.137931 |\n",
      "+-----+-----------+----------+\n",
      "|   3 |         9 | 0.310345 |\n",
      "+-----+-----------+----------+\n",
      "|   4 |        16 | 0.551724 |\n",
      "+-----+-----------+----------+\n"
     ]
    }
   ],
   "source": [
    "f1 = fitness1(2)\n",
    "f2 = fitness1(3)\n",
    "f3 = fitness1(4)\n",
    "total = f1+f2+f3\n",
    "table_data = [[2,f1, f1/total],\n",
    "             [3,f2, f2/total],\n",
    "             [4,f3, f3/total]]\n",
    "print(tabulate(table_data, headers= [\"x\", \"fitness\", \"chance\"], tablefmt=\"grid\"))"
   ]
  },
  {
   "cell_type": "code",
   "execution_count": 6,
   "metadata": {},
   "outputs": [
    {
     "name": "stdout",
     "output_type": "stream",
     "text": [
      "+-----+-----------+----------+\n",
      "|   x |   fitness |   chance |\n",
      "+=====+===========+==========+\n",
      "|   2 |        22 | 0.318841 |\n",
      "+-----+-----------+----------+\n",
      "|   3 |        23 | 0.333333 |\n",
      "+-----+-----------+----------+\n",
      "|   4 |        24 | 0.347826 |\n",
      "+-----+-----------+----------+\n"
     ]
    }
   ],
   "source": [
    "f1 = fitness2(2)\n",
    "f2 = fitness2(3)\n",
    "f3 = fitness2(4)\n",
    "total = f1+f2+f3\n",
    "table_data = [[2,f1, f1/total],\n",
    "             [3,f2, f2/total],\n",
    "             [4,f3, f3/total]]\n",
    "print(tabulate(table_data, headers= [\"x\", \"fitness\", \"chance\"], tablefmt=\"grid\"))"
   ]
  },
  {
   "cell_type": "markdown",
   "metadata": {},
   "source": [
    "#### Answer"
   ]
  },
  {
   "cell_type": "markdown",
   "metadata": {},
   "source": [
    "## Exercise 4 - Role of Selection in GA's"
   ]
  },
  {
   "cell_type": "markdown",
   "metadata": {},
   "source": [
    "#### Answer"
   ]
  },
  {
   "cell_type": "markdown",
   "metadata": {},
   "source": [
    "## Exercise 5 - Evolutionary Strategies vs. Local Search"
   ]
  },
  {
   "cell_type": "markdown",
   "metadata": {},
   "source": [
    "#### Answer\n",
    "a. The search space is explored more because every 1 parent generates 5 offspring of which the best is retained. This means more different options are seen and evaluated.\n",
    "\n",
    "b. A (1+labda) ES strategy would behave similar to greedy algorithms as it also only performs locally optimal steps. The influence of the value of lambda is seen in how locally the steps are made. A large lamda would mean that the local search space is larger while a small lamda leads to a smaller local search space."
   ]
  },
  {
   "cell_type": "markdown",
   "metadata": {},
   "source": [
    "## Exercise 6 - Mementic Algorithms vs Simple EAs"
   ]
  },
  {
   "cell_type": "code",
   "execution_count": 7,
   "metadata": {},
   "outputs": [
    {
     "data": {
      "image/png": "[encoded data removed]",
      "text/plain": [
       "<Figure size 432x288 with 1 Axes>"
      ]
     },
     "metadata": {
      "needs_background": "light"
     },
     "output_type": "display_data"
    },
    {
     "name": "stdout",
     "output_type": "stream",
     "text": [
      "[[ 0.2554 18.2366]\n",
      " [ 0.4339 15.2476]\n",
      " [ 0.7377  8.3137]]\n",
      "50\n"
     ]
    }
   ],
   "source": [
    "plt.scatter(tsp_problem[:,0],tsp_problem[:,1])\n",
    "plt.show()\n",
    "print(tsp_problem[:3])\n",
    "print(len(tsp_problem))"
   ]
  },
  {
   "cell_type": "code",
   "execution_count": 8,
   "metadata": {},
   "outputs": [
    {
     "name": "stdout",
     "output_type": "stream",
     "text": [
      "[[12 10  9 16 46 22 31 34 39 14  3  8 27 32 43  1 45  6 19 13 18 11 48 38\n",
      "  17 29 25 35 36  2 15 26 24 30 23 33  5 28 47 40 49  7 44 37  0  4 41 42\n",
      "  20 21]\n",
      " [26 15 48  4 16 32 22 46  0 38 44  7 30 11 17 49  1 40 25  2 28  3 43  9\n",
      "  12 29 41 37 19 35 34 21 31 47  6 14 18 10 39 23 45 36 24 33  5 42 27 13\n",
      "   8 20]\n",
      " [33 32 24 39 35 19 44  8 31 14 15 23 34 18  3 46 48  1 10 26 40 13 25  6\n",
      "   0 20 27 22 12 11  9  2 49 28 45 38  4  7 17 16 21 36 43 47 29 37  5 30\n",
      "  41 42]]\n"
     ]
    }
   ],
   "source": [
    "def initialise_population(n_individuals, individual_len):\n",
    "    population = np.zeros((n_individuals, individual_len))\n",
    "    \n",
    "    for i in range(n_individuals):\n",
    "        x = np.arange(individual_len)\n",
    "        random.shuffle(x)\n",
    "        population[i,:] = x\n",
    "        \n",
    "    return population.astype(int)\n",
    "\n",
    "\n",
    "population = initialise_population(3,len(tsp_problem))\n",
    "print(population)"
   ]
  },
  {
   "cell_type": "code",
   "execution_count": 9,
   "metadata": {},
   "outputs": [],
   "source": [
    "def get_distance(individual):\n",
    "    distance = 0\n",
    "    for i in range(individual.size-1):\n",
    "        x = tsp_problem[individual[i],0] - tsp_problem[individual[i+1],0]\n",
    "        y = tsp_problem[individual[i],1] - tsp_problem[individual[i+1],1]\n",
    "        \n",
    "        d = np.sqrt((x**2)+(y**2))\n",
    "        distance += d\n",
    "        \n",
    "    return distance\n",
    "#print(get_distance(population[0]))"
   ]
  },
  {
   "cell_type": "code",
   "execution_count": 10,
   "metadata": {},
   "outputs": [],
   "source": [
    "def opt_2(individual,i,k):\n",
    "    x = individual[i]\n",
    "    y = individual[k]\n",
    "    \n",
    "    individual[i]=y\n",
    "    individual[k]=x\n",
    "    \n",
    "    return individual"
   ]
  },
  {
   "cell_type": "code",
   "execution_count": 11,
   "metadata": {},
   "outputs": [
    {
     "name": "stdout",
     "output_type": "stream",
     "text": [
      "[ 9 16 46 22 31 34 39 14  3  8 27 32 43  1 45  6 19 13 18 11 48 38 17 29\n",
      " 25 35 36  2 15 26 24 30 23 33  5 28 47 40 49  7 44 37  0  4 41 42 20 21\n",
      " 12 10]\n"
     ]
    }
   ],
   "source": [
    "def local_search(individual):\n",
    "    best_individual = individual\n",
    "    best_distance = get_distance(best_individual)\n",
    "    converged = False\n",
    "    \n",
    "    while(converged != True):\n",
    "        improvement = False\n",
    "        \n",
    "        for i in range(len(best_individual)-1):\n",
    "            new_individual = opt_2(best_individual,i,i+1)\n",
    "            new_distance = get_distance(new_individual)\n",
    "            \n",
    "            if new_distance<best_distance:\n",
    "                best_individual = new_individual\n",
    "                best_distance = new_distance\n",
    "                improvement = True\n",
    "                \n",
    "        if improvement == False:\n",
    "            converged = True\n",
    "            \n",
    "    return best_individual.astype(int)\n",
    "\n",
    "print(local_search(population[0]))"
   ]
  },
  {
   "cell_type": "code",
   "execution_count": 12,
   "metadata": {},
   "outputs": [],
   "source": [
    "def evaluate(individual):\n",
    "    return 1/get_distance(individual)"
   ]
  },
  {
   "cell_type": "code",
   "execution_count": 13,
   "metadata": {},
   "outputs": [],
   "source": [
    "def binary_tournament(population):\n",
    "    population_index = np.arange(len(population))\n",
    "#     [option_1, option_2] = random.choices(population_index, 2)\n",
    "    option_1 = random.choice(population_index)\n",
    "    option_2 = random.choice(population_index)\n",
    "    val_1 = evaluate(population[option_1,:])\n",
    "    val_2 = evaluate(population[option_2,:])\n",
    "    \n",
    "    if val_1 > val_2:\n",
    "        return population[option_1].astype(int)\n",
    "    else:\n",
    "        return population[option_2].astype(int)"
   ]
  },
  {
   "cell_type": "code",
   "execution_count": 14,
   "metadata": {},
   "outputs": [],
   "source": [
    "def crossover(parent_1, parent_2):\n",
    "    indices = np.arange(len(parent_1))\n",
    "    pick_1 = random.choice(indices)\n",
    "    pick_2= random.choice(indices)\n",
    "    if pick_1>pick_2:\n",
    "        cut_1 = pick_2\n",
    "        cut_2 = pick_1\n",
    "    else:\n",
    "        cut_1 = pick_1\n",
    "        cut_2 = pick_2\n",
    "        \n",
    "#     print(\"Crossover points indices:\",cut_1,cut_2)\n",
    "    crossover_part_1 = parent_1[cut_1:cut_2]\n",
    "    crossover_part_2 = parent_2[cut_1:cut_2]\n",
    "    \n",
    "    child_1 = np.zeros(len(parent_1))\n",
    "    child_2 = np.zeros(len(parent_2))\n",
    "    \n",
    "    child_1[cut_1:cut_2] = crossover_part_2\n",
    "    child_2[cut_1:cut_2] = crossover_part_1\n",
    "    \n",
    "    checklist_1 = np.concatenate([parent_1[cut_2:],parent_1[:cut_2]])\n",
    "    checklist_2 = np.concatenate([parent_2[cut_2:],parent_2[:cut_2]])\n",
    "    \n",
    "    checklist_1 = [x for x in checklist_1 if x not in crossover_part_2]\n",
    "    checklist_2 = [x for x in checklist_2 if x not in crossover_part_1]\n",
    "    \n",
    "    \n",
    "#     print(\"a child\", child_1.astype(int), \"with length\",len(child_1))\n",
    "#     print(\"a crossover piece\", crossover_part_2, \"with length\",len(crossover_part_2))\n",
    "#     print(\"a checklist\", checklist_1, \"with length\",len(checklist_1))\n",
    "    loop_number = len(checklist_1)\n",
    "    \n",
    "    for i in range(loop_number):\n",
    "        child_1[(cut_2+i) % (len(child_1))] = checklist_1[0]\n",
    "        child_2[(cut_2+i) % (len(child_2))] = checklist_2[0]\n",
    "        del checklist_1[0]\n",
    "        del checklist_2[0]\n",
    "       \n",
    "\n",
    "\n",
    "    return child_1.astype(int),child_2.astype(int)\n",
    "\n",
    "# print(\"eerste papa \\n\",population[0])\n",
    "# print(\"tweede papa \\n\",population[1])\n",
    "# kiddo1,kiddo2 = crossover(population[0],population[1])\n",
    "# print(\"eerste kiddo \\n\",kiddo1)\n",
    "# print(\"tweede kiddo \\n\",kiddo2)\n",
    "# print(len(np.unique(kiddo1)))"
   ]
  },
  {
   "cell_type": "code",
   "execution_count": 15,
   "metadata": {},
   "outputs": [],
   "source": [
    "def mutate(individual,probability):\n",
    "    threshold = random.random()\n",
    "    if threshold<=probability:\n",
    "        pick_1 = random.choice(individual)\n",
    "        index_1 = np.where(individual == pick_1)\n",
    "        pick_2 = random.choice(individual)\n",
    "        index_2 = np.where(individual == pick_2)\n",
    "        \n",
    "        individual[index_1] = pick_2\n",
    "        individual[index_2] = pick_1\n",
    "        \n",
    "        return individual.astype(int)\n",
    "    else:\n",
    "        return individual.astype(int)\n",
    "#print(mutate(kiddo1,0.9))"
   ]
  },
  {
   "cell_type": "code",
   "execution_count": 18,
   "metadata": {},
   "outputs": [
    {
     "name": "stdout",
     "output_type": "stream",
     "text": [
      "Iteration: 0\n",
      "Iteration: 50\n",
      "Iteration: 100\n",
      "Iteration: 150\n",
      "Iteration: 200\n",
      "Iteration: 250\n",
      "Iteration: 300\n",
      "Iteration: 350\n",
      "Iteration: 400\n",
      "Iteration: 450\n",
      "Iteration: 500\n",
      "Iteration: 550\n",
      "Iteration: 600\n",
      "Iteration: 650\n",
      "Iteration: 700\n",
      "Iteration: 750\n",
      "Iteration: 800\n",
      "Iteration: 850\n",
      "Iteration: 900\n",
      "Iteration: 950\n",
      "Iteration: 1000\n",
      "Iteration: 1050\n",
      "Iteration: 1100\n",
      "Iteration: 1150\n",
      "Iteration: 1200\n",
      "Iteration: 1250\n",
      "Iteration: 1300\n",
      "Iteration: 1350\n",
      "Iteration: 1400\n",
      "Iteration: 1450\n"
     ]
    }
   ],
   "source": [
    "## Memetic Algorithm\n",
    "\n",
    "# Initialise\n",
    "population_size = 20\n",
    "n_offspring = 20\n",
    "mutate_prob = 0.01\n",
    "iterations = 1500\n",
    "\n",
    "population = initialise_population(population_size,len(tsp_problem))\n",
    "fitness = np.zeros(len(population))\n",
    "ext_population = np.zeros((population_size+n_offspring,len(tsp_problem)))\n",
    "ext_fitness = np.zeros(population_size+n_offspring)\n",
    "fitness_array = np.zeros((iterations,3))\n",
    "\n",
    "# Local Search\n",
    "for i in range(len(population)):\n",
    "    population[i,:] = local_search(population[i,:])\n",
    "    # Evaluate\n",
    "    fitness[i] = evaluate(population[i,:])\n",
    "\n",
    "# Loop start\n",
    "for n in range(iterations):\n",
    "    # Select parents\n",
    "    parents = np.zeros((n_offspring,len(tsp_problem))).astype(int)\n",
    "    for i in range(0, n_offspring, 2):\n",
    "        parents[i] = binary_tournament(population)\n",
    "        parents[i+1] = binary_tournament(population)\n",
    "#     print(parents)\n",
    "    # Recombine\n",
    "    children = np.zeros((n_offspring,len(tsp_problem))).astype(int)\n",
    "    for i in range(0, n_offspring, 2):\n",
    "        children[i],children[i+1] = crossover(parents[i],parents[i+1])\n",
    "        \n",
    "    # Mutate\n",
    "    for i in range(len(children)):\n",
    "        children[i,:] = mutate(children[i],mutate_prob)\n",
    "    \n",
    "    ext_population =np.concatenate([population, children]).astype(int)\n",
    "#     print(ext_population)\n",
    "\n",
    "    # Local Search\n",
    "#     for i in range(len(ext_population)):\n",
    "#         ext_population[i,:] = local_search(ext_population[i,:])\n",
    "        # Evaluate\n",
    "    for i in range(len(children)):\n",
    "        children[i,:] = local_search(children[i,:])\n",
    "    \n",
    "    \n",
    "    # Select new generation\n",
    "#     population = random.choices(ext_population, size=population_size)\n",
    "#     population = ext_population[np.random.randint(ext_population.shape[0], size=population_size), :]\n",
    "    population = children\n",
    "    for i in range(len(population)):\n",
    "        fitness[i] = evaluate(population[i,:])\n",
    "    \n",
    "    fitness_array[n,0] = np.min(fitness)\n",
    "    fitness_array[n,1] = np.max(fitness)\n",
    "    fitness_array[n,2] = np.average(fitness)\n",
    "    if n%50 == 0:\n",
    "        print(\"Iteration:\",n)\n",
    "\n",
    "# loop back\n",
    "\n"
   ]
  },
  {
   "cell_type": "code",
   "execution_count": 19,
   "metadata": {},
   "outputs": [
    {
     "data": {
      "text/plain": [
       "[<matplotlib.lines.Line2D at 0x27b562afec8>]"
      ]
     },
     "execution_count": 19,
     "metadata": {},
     "output_type": "execute_result"
    },
    {
     "data": {
      "image/png": "[encoded data removed]",
      "text/plain": [
       "<Figure size 432x288 with 1 Axes>"
      ]
     },
     "metadata": {
      "needs_background": "light"
     },
     "output_type": "display_data"
    }
   ],
   "source": [
    "distance_array = 1/fitness_array[:,2]\n",
    "plt.plot(distance_array)"
   ]
  },
  {
   "cell_type": "markdown",
   "metadata": {},
   "source": [
    "## Exercise 7 - Genetic Programming Representation"
   ]
  },
  {
   "cell_type": "code",
   "execution_count": null,
   "metadata": {},
   "outputs": [],
   "source": []
  },
  {
   "cell_type": "markdown",
   "metadata": {},
   "source": [
    "#### Answer"
   ]
  },
  {
   "cell_type": "markdown",
   "metadata": {},
   "source": [
    "## Exercise 8 - Genetic Programming Behaviour"
   ]
  },
  {
   "cell_type": "markdown",
   "metadata": {},
   "source": [
    "#### Answer"
   ]
  },
  {
   "cell_type": "code",
   "execution_count": null,
   "metadata": {},
   "outputs": [],
   "source": []
  }
 ],
 "metadata": {
  "kernelspec": {
   "display_name": "Python 3",
   "language": "python",
   "name": "python3"
  },
  "language_info": {
   "codemirror_mode": {
    "name": "ipython",
    "version": 3
   },
   "file_extension": ".py",
   "mimetype": "text/x-python",
   "name": "python",
   "nbconvert_exporter": "python",
   "pygments_lexer": "ipython3",
   "version": "3.7.4"
  }
 },
 "nbformat": 4,
 "nbformat_minor": 4
}
