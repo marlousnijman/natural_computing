{
 "cells": [
  {
   "cell_type": "markdown",
   "metadata": {},
   "source": [
    "# Assignment 1 - Evolutionary Computation\n",
    "To reproduce our results, you can simply run all cells in this notebook. A seed was added for reproduceability, but this was done after some experimental results were already added to our assignment pdf, so results might vary slightly for assignments 6 and 8, also due to stochasticity. \n",
    "Please make sure to install the deap library, by running the following cell:"
   ]
  },
  {
   "cell_type": "code",
   "execution_count": null,
   "metadata": {},
   "outputs": [],
   "source": [
    "# !pip install deap"
   ]
  },
  {
   "cell_type": "markdown",
   "metadata": {},
   "source": [
    "## Imports"
   ]
  },
  {
   "cell_type": "code",
   "execution_count": null,
   "metadata": {},
   "outputs": [],
   "source": [
    "import numpy as np\n",
    "import matplotlib.pyplot as plt\n",
    "import operator\n",
    "import math\n",
    "import random\n",
    "from deap import base, creator, gp, tools, algorithms"
   ]
  },
  {
   "cell_type": "markdown",
   "metadata": {},
   "source": [
    "## Seed"
   ]
  },
  {
   "cell_type": "code",
   "execution_count": null,
   "metadata": {},
   "outputs": [],
   "source": [
    "np.random.seed(0)"
   ]
  },
  {
   "cell_type": "markdown",
   "metadata": {},
   "source": [
    "## Load Data"
   ]
  },
  {
   "cell_type": "code",
   "execution_count": null,
   "metadata": {},
   "outputs": [],
   "source": [
    "tsp_problem = np.loadtxt(\"file-tsp.txt\")"
   ]
  },
  {
   "cell_type": "markdown",
   "metadata": {},
   "source": [
    "## Exercise 4 - Role of Selection in GA's"
   ]
  },
  {
   "cell_type": "code",
   "execution_count": null,
   "metadata": {},
   "outputs": [],
   "source": [
    "def inverse(x):\n",
    "    return 1 if x == 0 else 0"
   ]
  },
  {
   "cell_type": "code",
   "execution_count": null,
   "metadata": {},
   "outputs": [],
   "source": [
    "def counting_ones(l, p, iterations):\n",
    "    x = np.random.choice([0, 1], size=(l))\n",
    "    fitness = []\n",
    "\n",
    "    iteration = 0\n",
    "    while((iteration < iterations) & (np.sum(x) < l)):\n",
    "        x_m = [inverse(x_i) if (np.random.random() < p) else x_i for x_i in x]\n",
    "        \n",
    "        if((l - np.sum(x_m)) < (l - np.sum(x))):\n",
    "            x = x_m\n",
    "            \n",
    "        fitness.append((l - np.sum(x)))\n",
    "        iteration += 1\n",
    "            \n",
    "    return fitness"
   ]
  },
  {
   "cell_type": "code",
   "execution_count": null,
   "metadata": {},
   "outputs": [],
   "source": [
    "def plot_fitness(ax, fitness, iterations):\n",
    "    ax.plot(fitness)\n",
    "    ax.set_ylim(0, np.max(fitness))\n",
    "    ax.set_xlim(0, iterations)\n",
    "    ax.set_xticks(np.arange(0, iterations+1, 300))\n",
    "    ax.set_xlabel(\"Iterations\")\n",
    "    ax.set_ylabel(\"Fitness\")"
   ]
  },
  {
   "cell_type": "code",
   "execution_count": null,
   "metadata": {},
   "outputs": [],
   "source": [
    "l = 100 \n",
    "p = 1/l\n",
    "iterations = 1500\n",
    "\n",
    "fitness = counting_ones(l, p, iterations)\n",
    "fig, axs = plt.subplots()\n",
    "plot_fitness(axs, fitness, iterations)"
   ]
  },
  {
   "cell_type": "code",
   "execution_count": null,
   "metadata": {},
   "outputs": [],
   "source": [
    "fig, axs = plt.subplots(2, 5, figsize=(20, 8))\n",
    "axs = axs.ravel()\n",
    "\n",
    "for ax in axs:\n",
    "    fitness = counting_ones(l, p, iterations)\n",
    "    plot_fitness(ax, fitness, iterations)"
   ]
  },
  {
   "cell_type": "code",
   "execution_count": null,
   "metadata": {},
   "outputs": [],
   "source": [
    "# This count ones function is the modified version\n",
    "\n",
    "def counting_ones(l, p, iterations):\n",
    "    x = np.random.choice([0, 1], size=(l))\n",
    "    fitness = []\n",
    "\n",
    "    iteration = 0\n",
    "    while((iteration < iterations) & (np.sum(x) < l)):\n",
    "        x_m = [inverse(x_i) if (np.random.random() < p) else x_i for x_i in x]\n",
    "        x = x_m\n",
    "            \n",
    "        fitness.append((l - np.sum(x)))\n",
    "        iteration += 1\n",
    "            \n",
    "    return fitness"
   ]
  },
  {
   "cell_type": "code",
   "execution_count": null,
   "metadata": {},
   "outputs": [],
   "source": [
    "fig, axs = plt.subplots(2, 5, figsize=(20, 8))\n",
    "axs = axs.ravel()\n",
    "\n",
    "for ax in axs:\n",
    "    fitness = counting_ones(l, p, iterations)\n",
    "    plot_fitness(ax, fitness, iterations)"
   ]
  },
  {
   "cell_type": "markdown",
   "metadata": {},
   "source": [
    "## Exercise 6 - Mementic Algorithms vs Simple EAs"
   ]
  },
  {
   "cell_type": "code",
   "execution_count": null,
   "metadata": {},
   "outputs": [],
   "source": [
    "plt.scatter(tsp_problem[:,0],tsp_problem[:,1])\n",
    "plt.show()\n",
    "print(tsp_problem[:3])\n",
    "print(len(tsp_problem))"
   ]
  },
  {
   "cell_type": "code",
   "execution_count": null,
   "metadata": {},
   "outputs": [],
   "source": [
    "def initialise_population(n_individuals, individual_len):\n",
    "    population = np.zeros((n_individuals, individual_len))\n",
    "    \n",
    "    for i in range(n_individuals):\n",
    "        x = np.arange(individual_len)\n",
    "        random.shuffle(x)\n",
    "        population[i,:] = x\n",
    "        \n",
    "    return population.astype(int)"
   ]
  },
  {
   "cell_type": "code",
   "execution_count": null,
   "metadata": {},
   "outputs": [],
   "source": [
    "def get_distance(individual):\n",
    "    distance = 0\n",
    "    for i in range(individual.size-1):\n",
    "        x = tsp_problem[individual[i],0] - tsp_problem[individual[i+1],0]\n",
    "        y = tsp_problem[individual[i],1] - tsp_problem[individual[i+1],1]\n",
    "        \n",
    "        d = np.sqrt((x**2)+(y**2))\n",
    "        distance += d\n",
    "        \n",
    "    return distance"
   ]
  },
  {
   "cell_type": "code",
   "execution_count": null,
   "metadata": {},
   "outputs": [],
   "source": [
    "def opt_2(individual,i,k):\n",
    "    x = individual[i]\n",
    "    y = individual[k]\n",
    "    \n",
    "    individual[i]=y\n",
    "    individual[k]=x\n",
    "    \n",
    "    return individual"
   ]
  },
  {
   "cell_type": "code",
   "execution_count": null,
   "metadata": {},
   "outputs": [],
   "source": [
    "def local_search(individual):\n",
    "    best_individual = individual\n",
    "    best_distance = get_distance(best_individual)\n",
    "    converged = False\n",
    "    \n",
    "    while(converged != True):\n",
    "        improvement = False\n",
    "        \n",
    "        for i in range(len(best_individual)-1):\n",
    "            new_individual = opt_2(best_individual,i,i+1)\n",
    "            new_distance = get_distance(new_individual)\n",
    "            \n",
    "            if new_distance<best_distance:\n",
    "                best_individual = new_individual\n",
    "                best_distance = new_distance\n",
    "                improvement = True\n",
    "                \n",
    "        if improvement == False:\n",
    "            converged = True\n",
    "            \n",
    "    return best_individual.astype(int)"
   ]
  },
  {
   "cell_type": "code",
   "execution_count": null,
   "metadata": {},
   "outputs": [],
   "source": [
    "def evaluate(individual):\n",
    "    return 1/get_distance(individual)"
   ]
  },
  {
   "cell_type": "code",
   "execution_count": null,
   "metadata": {},
   "outputs": [],
   "source": [
    "def binary_tournament(population):\n",
    "    population_index = np.arange(len(population))\n",
    "    option_1 = random.choice(population_index)\n",
    "    option_2 = random.choice(population_index)\n",
    "    val_1 = evaluate(population[option_1,:])\n",
    "    val_2 = evaluate(population[option_2,:])\n",
    "    \n",
    "    if val_1 > val_2:\n",
    "        return population[option_1].astype(int)\n",
    "    else:\n",
    "        return population[option_2].astype(int)"
   ]
  },
  {
   "cell_type": "code",
   "execution_count": null,
   "metadata": {},
   "outputs": [],
   "source": [
    "def crossover(parent_1, parent_2):\n",
    "    indices = np.arange(len(parent_1))\n",
    "    pick_1 = random.choice(indices)\n",
    "    pick_2= random.choice(indices)\n",
    "    if pick_1>pick_2:\n",
    "        cut_1 = pick_2\n",
    "        cut_2 = pick_1\n",
    "    else:\n",
    "        cut_1 = pick_1\n",
    "        cut_2 = pick_2\n",
    "        \n",
    "    crossover_part_1 = parent_1[cut_1:cut_2]\n",
    "    crossover_part_2 = parent_2[cut_1:cut_2]\n",
    "    \n",
    "    child_1 = np.zeros(len(parent_1))\n",
    "    child_2 = np.zeros(len(parent_2))\n",
    "    \n",
    "    child_1[cut_1:cut_2] = crossover_part_2\n",
    "    child_2[cut_1:cut_2] = crossover_part_1\n",
    "    \n",
    "    checklist_1 = np.concatenate([parent_1[cut_2:],parent_1[:cut_2]])\n",
    "    checklist_2 = np.concatenate([parent_2[cut_2:],parent_2[:cut_2]])\n",
    "    \n",
    "    checklist_1 = [x for x in checklist_1 if x not in crossover_part_2]\n",
    "    checklist_2 = [x for x in checklist_2 if x not in crossover_part_1]\n",
    "    \n",
    "    loop_number = len(checklist_1)\n",
    "    \n",
    "    for i in range(loop_number):\n",
    "        child_1[(cut_2+i) % (len(child_1))] = checklist_1[0]\n",
    "        child_2[(cut_2+i) % (len(child_2))] = checklist_2[0]\n",
    "        del checklist_1[0]\n",
    "        del checklist_2[0]\n",
    "       \n",
    "    return child_1.astype(int), child_2.astype(int)"
   ]
  },
  {
   "cell_type": "code",
   "execution_count": null,
   "metadata": {},
   "outputs": [],
   "source": [
    "def mutate(individual,probability):\n",
    "    threshold = random.random()\n",
    "    if threshold<=probability:\n",
    "        pick_1 = random.choice(individual)\n",
    "        index_1 = np.where(individual == pick_1)\n",
    "        pick_2 = random.choice(individual)\n",
    "        index_2 = np.where(individual == pick_2)\n",
    "        \n",
    "        individual[index_1] = pick_2\n",
    "        individual[index_2] = pick_1\n",
    "        \n",
    "        return individual.astype(int)\n",
    "    else:\n",
    "        return individual.astype(int)"
   ]
  },
  {
   "cell_type": "code",
   "execution_count": null,
   "metadata": {},
   "outputs": [],
   "source": [
    "# Parameters\n",
    "population_size = 20\n",
    "n_offspring = 20\n",
    "mutate_prob = 0.005\n",
    "iterations = 1500\n",
    "\n",
    "def memetic_algorithm(population_size,n_offspring,mutate_prob,iterations):\n",
    "    # Initalize population\n",
    "    population = initialise_population(population_size,len(tsp_problem))\n",
    "    fitness = np.zeros(len(population))\n",
    "    fitness_array = np.zeros((iterations,3))\n",
    "\n",
    "    # Local Search\n",
    "    for i in range(len(population)):\n",
    "        population[i,:] = local_search(population[i,:])\n",
    "        # Evaluate\n",
    "        fitness[i] = evaluate(population[i,:])\n",
    "\n",
    "    # Loop over iterations\n",
    "    for n in range(iterations):\n",
    "        \n",
    "        # Binary tournament selection\n",
    "        parents = np.zeros((n_offspring,len(tsp_problem))).astype(int)\n",
    "        for i in range(0, n_offspring, 2):\n",
    "            parents[i] = binary_tournament(population)\n",
    "            parents[i+1] = binary_tournament(population)\n",
    "\n",
    "        children = np.zeros((n_offspring,len(tsp_problem))).astype(int)\n",
    "        \n",
    "        # Crossover\n",
    "        for i in range(0, n_offspring, 2):\n",
    "            children[i],children[i+1] = crossover(parents[i],parents[i+1])\n",
    "\n",
    "        # Mutate\n",
    "        for i in range(len(children)):\n",
    "            children[i,:] = mutate(children[i],mutate_prob)\n",
    "\n",
    "        # Local Search\n",
    "        for i in range(len(children)):\n",
    "            children[i,:] = local_search(children[i,:])\n",
    "\n",
    "        population = children\n",
    "        \n",
    "        # Evaluate\n",
    "        for i in range(len(population)):\n",
    "            fitness[i] = evaluate(population[i,:])\n",
    "\n",
    "        fitness_array[n,0] = np.min(fitness)\n",
    "        fitness_array[n,1] = np.max(fitness)\n",
    "        fitness_array[n,2] = np.average(fitness)\n",
    "        \n",
    "        if n%500 == 0:\n",
    "            print(\"Iteration:\",n)\n",
    "            \n",
    "    return fitness_array"
   ]
  },
  {
   "cell_type": "code",
   "execution_count": null,
   "metadata": {},
   "outputs": [],
   "source": [
    "# Parameters\n",
    "MA_fitness = np.zeros((10,1500,3))\n",
    "population_size = 20\n",
    "n_offspring = 20\n",
    "mutate_prob = 0.005\n",
    "iterations = 1500\n",
    "\n",
    "fig, axs = plt.subplots(2,5, figsize=(20,8))\n",
    "axs = axs.ravel()\n",
    "\n",
    "for i,ax in enumerate(axs):\n",
    "    MA_fitness[i,:,:] = memetic_algorithm(population_size,n_offspring,mutate_prob,iterations)\n",
    "    ax.plot(MA_fitness[i,:,2])\n",
    "    ax.plot(MA_fitness[i,:,0])\n",
    "    ax.set_title(\"Memetic Algorithm\")\n",
    "    ax.legend([\"Average\",\"Best\"])"
   ]
  },
  {
   "cell_type": "code",
   "execution_count": null,
   "metadata": {},
   "outputs": [],
   "source": [
    "# Parameters\n",
    "population_size = 20\n",
    "n_offspring = 20\n",
    "mutate_prob = 0.01\n",
    "iterations = 1500\n",
    "\n",
    "def evolutionary_algorithm(population_size,n_offspring,mutate_prob,iterations):\n",
    "    # Initialize population\n",
    "    population = initialise_population(population_size,len(tsp_problem))\n",
    "    fitness = np.zeros(len(population))\n",
    "    fitness_array_ea = np.zeros((iterations,3))\n",
    "    \n",
    "    # Loop over iterations\n",
    "    for n in range(iterations):\n",
    "        parents = np.zeros((n_offspring,len(tsp_problem))).astype(int)\n",
    "        for i in range(0, n_offspring, 2):\n",
    "            parents[i] = binary_tournament(population)\n",
    "            parents[i+1] = binary_tournament(population)\n",
    "\n",
    "        children = np.zeros((n_offspring,len(tsp_problem))).astype(int)\n",
    "        \n",
    "        # Crossover \n",
    "        for i in range(0, n_offspring, 2):\n",
    "            children[i],children[i+1] = crossover(parents[i],parents[i+1])\n",
    "\n",
    "        # Mutate\n",
    "        for i in range(len(children)):\n",
    "            children[i,:] = mutate(children[i],mutate_prob)\n",
    "\n",
    "        population = children\n",
    "        \n",
    "        # Evaluation\n",
    "        for i in range(len(population)):\n",
    "            fitness[i] = evaluate(population[i,:])\n",
    "\n",
    "        fitness_array_ea[n,0] = np.min(fitness)\n",
    "        fitness_array_ea[n,1] = np.max(fitness)\n",
    "        fitness_array_ea[n,2] = np.average(fitness)\n",
    "        \n",
    "        if n%500 == 0:\n",
    "            print(\"Iteration:\",n)\n",
    "            \n",
    "    return fitness_array_ea"
   ]
  },
  {
   "cell_type": "code",
   "execution_count": null,
   "metadata": {},
   "outputs": [],
   "source": [
    "# Parameters\n",
    "EA_fitness = np.zeros((10,1500,3))\n",
    "population_size = 20\n",
    "n_offspring = 20\n",
    "mutate_prob = 0.005\n",
    "iterations = 1500\n",
    "\n",
    "fig, axs = plt.subplots(2,5, figsize=(20,8))\n",
    "axs = axs.ravel()\n",
    "\n",
    "for i,ax in enumerate(axs):\n",
    "    EA_fitness[i,:,:] = evolutionary_algorithm(population_size,n_offspring,mutate_prob,iterations)\n",
    "    ax.plot(EA_fitness[i,:,2])\n",
    "    ax.plot(EA_fitness[i,:,0])\n",
    "    ax.set_title(\"Evolutionary Algorithm\")\n",
    "    ax.legend([\"Average\",\"Best\"])"
   ]
  },
  {
   "cell_type": "markdown",
   "metadata": {},
   "source": [
    "## Exercise 8 - Genetic Programming Behaviour"
   ]
  },
  {
   "cell_type": "code",
   "execution_count": null,
   "metadata": {},
   "outputs": [],
   "source": [
    "# The data we want to fit on\n",
    "data = [[-1.0, 0.0000],\n",
    "        [-0.9, -0.1629],\n",
    "        [-0.8, -0.2624],\n",
    "        [-0.7, -0.3129],\n",
    "        [-0.6, -0.3264],\n",
    "        [-0.5, -0.3125],\n",
    "        [-0.4, -0.2784],\n",
    "        [-0.3, -0.2289],\n",
    "        [-0.2, -0.1664],\n",
    "        [-0.1, -0.0909],\n",
    "        [0, 0.0],\n",
    "        [0.1, 0.1111],\n",
    "        [0.2, 0.2496],\n",
    "        [0.3, 0.4251],\n",
    "        [0.4, 0.6496],\n",
    "        [0.5, 0.9375],\n",
    "        [0.6, 1.3056],\n",
    "        [0.7, 1.7731],\n",
    "        [0.8, 2.3616],\n",
    "        [0.9, 3.0951],\n",
    "        [1.0, 4.0000]]"
   ]
  },
  {
   "cell_type": "code",
   "execution_count": null,
   "metadata": {},
   "outputs": [],
   "source": [
    "# Implemented a GP program based on this tutorial: https://deap.readthedocs.io/en/master/examples/gp_symbreg.html\n",
    "pset = gp.PrimitiveSet(\"main\", 1)\n",
    "pset.renameArguments(ARG0=\"x\")"
   ]
  },
  {
   "cell_type": "code",
   "execution_count": null,
   "metadata": {},
   "outputs": [],
   "source": [
    "# Primitives\n",
    "def div(x, y):\n",
    "    return x/y if (y > 0) else 0\n",
    "\n",
    "def log(x):\n",
    "    return math.log(x) if (x > 0) else 0\n",
    "\n",
    "def exp(x):\n",
    "    return math.exp(min(x,100))\n",
    "\n",
    "pset.addPrimitive(operator.add, 2)\n",
    "pset.addPrimitive(operator.sub, 2)\n",
    "pset.addPrimitive(operator.mul, 2)\n",
    "pset.addPrimitive(div, 2)\n",
    "pset.addPrimitive(log, 1)\n",
    "pset.addPrimitive(exp, 1)\n",
    "pset.addPrimitive(math.sin, 1)\n",
    "pset.addPrimitive(math.cos, 1)"
   ]
  },
  {
   "cell_type": "code",
   "execution_count": null,
   "metadata": {},
   "outputs": [],
   "source": [
    "# We want to maximize the fitness function\n",
    "creator.create(\"FitnessMin\", base.Fitness, weights=(1.0,))\n",
    "creator.create(\"Individual\", gp.PrimitiveTree, fitness=creator.FitnessMin)"
   ]
  },
  {
   "cell_type": "code",
   "execution_count": null,
   "metadata": {},
   "outputs": [],
   "source": [
    "# Fitness function\n",
    "def absolute_error_sum(individual, points):\n",
    "    # Transform the tree expression in a callable function\n",
    "    func = toolbox.compile(expr=individual)\n",
    "    \n",
    "    # Sum of absolute errors\n",
    "    error = np.sum([abs(func(x[0]) - x[1]) for x in points])    \n",
    "\n",
    "    # Return -sum of absolute errors\n",
    "    return -error,"
   ]
  },
  {
   "cell_type": "code",
   "execution_count": null,
   "metadata": {},
   "outputs": [],
   "source": [
    "### Toolbox\n",
    "toolbox = base.Toolbox()\n",
    "toolbox.register(\"expr\", gp.genHalfAndHalf, pset=pset, min_=1, max_=3)\n",
    "toolbox.register(\"individual\", tools.initIterate, creator.Individual, toolbox.expr)\n",
    "toolbox.register(\"population\", tools.initRepeat, list, toolbox.individual)\n",
    "toolbox.register(\"compile\", gp.compile, pset=pset)\n",
    "toolbox.register(\"evaluate\", absolute_error_sum, points=data)\n",
    "toolbox.register(\"select\", tools.selTournament, tournsize=3)\n",
    "toolbox.register(\"mate\", gp.cxOnePoint)\n",
    "toolbox.register(\"expr_mut\", gp.genFull, min_=0, max_=2)\n",
    "toolbox.register(\"mutate\", gp.mutUniform, expr=toolbox.expr_mut, pset=pset)\n",
    "\n",
    "toolbox.decorate(\"mate\", gp.staticLimit(key=operator.attrgetter(\"height\"), max_value=17))\n",
    "toolbox.decorate(\"mutate\", gp.staticLimit(key=operator.attrgetter(\"height\"), max_value=17))"
   ]
  },
  {
   "cell_type": "code",
   "execution_count": null,
   "metadata": {},
   "outputs": [],
   "source": [
    "# Statistics\n",
    "def min_(x):\n",
    "    if type(x[0]) is list:\n",
    "        x = np.asarray(x)\n",
    "        return np.min(x[:,0])\n",
    "    else:\n",
    "        return np.min(x)\n",
    "    \n",
    "def max_(x):\n",
    "    if type(x[0]) is list:\n",
    "        x = np.asarray(x)\n",
    "        return np.max(x[:,0])\n",
    "    else:\n",
    "        return np.max(x)\n",
    "    \n",
    "def avg_(x):\n",
    "    if type(x[0]) is list:\n",
    "        x = np.asarray(x)\n",
    "        return np.mean(x[:,0])\n",
    "    else:\n",
    "        return np.mean(x)\n",
    "    \n",
    "def std_(x):\n",
    "    if type(x[0]) is list:\n",
    "        x = np.asarray(x)\n",
    "        return np.std(x[:,0])\n",
    "    else:\n",
    "        return np.std(x)\n",
    "    \n",
    "def best_(x):\n",
    "    if type(x[0]) is list:\n",
    "        x = np.asarray(x)\n",
    "        return x[np.argmax(x[:,1])][0]\n",
    "    else:\n",
    "        return np.max(x)\n",
    "    \n",
    "stats_fit = tools.Statistics(lambda ind: ind.fitness.values)\n",
    "stats_size = tools.Statistics(lambda ind: [len(ind), ind.fitness.values[0]])\n",
    "mstats = tools.MultiStatistics(fitness=stats_fit, size=stats_size)\n",
    "mstats.register(\"avg\", avg_)\n",
    "mstats.register(\"std\", std_)\n",
    "mstats.register(\"min\", min_)\n",
    "mstats.register(\"max\", max_)\n",
    "mstats.register(\"best\", best_)"
   ]
  },
  {
   "cell_type": "code",
   "execution_count": null,
   "metadata": {},
   "outputs": [],
   "source": [
    "# Evolution\n",
    "pop = toolbox.population(n=1000)\n",
    "hof = tools.HallOfFame(1)\n",
    "pop, log = algorithms.eaSimple(pop, toolbox, cxpb=0.7, mutpb=0, ngen=50, stats=mstats,\n",
    "                               halloffame=hof, verbose=True)"
   ]
  },
  {
   "cell_type": "code",
   "execution_count": null,
   "metadata": {},
   "outputs": [],
   "source": [
    "# Plot fitness of best individual of each generation\n",
    "best_fitness = log.chapters[\"fitness\"].select(\"best\")\n",
    "plt.plot(best_fitness)\n",
    "plt.xlabel(\"Generation\")\n",
    "plt.ylabel(\"Fitness\")\n",
    "plt.show()"
   ]
  },
  {
   "cell_type": "code",
   "execution_count": null,
   "metadata": {},
   "outputs": [],
   "source": [
    "# Plot size \n",
    "min_size = log.chapters[\"size\"].select(\"min\")\n",
    "max_size = log.chapters[\"size\"].select(\"max\")\n",
    "avg_size = log.chapters[\"size\"].select(\"avg\")\n",
    "best_size = log.chapters[\"size\"].select(\"best\")"
   ]
  },
  {
   "cell_type": "code",
   "execution_count": null,
   "metadata": {},
   "outputs": [],
   "source": [
    "plt.plot(avg_size, label=\"Average Size\")\n",
    "plt.plot(best_size, label=\"Best Size\")\n",
    "plt.fill_between(np.arange(0,51), min_size, max_size, color=\"gainsboro\", label=\"Spread\")\n",
    "plt.xlabel(\"Generation\")\n",
    "plt.ylabel(\"Tree Size\")\n",
    "plt.legend()\n",
    "plt.show()"
   ]
  },
  {
   "cell_type": "code",
   "execution_count": null,
   "metadata": {},
   "outputs": [],
   "source": []
  }
 ],
 "metadata": {
  "kernelspec": {
   "display_name": "Python 3",
   "language": "python",
   "name": "python3"
  },
  "language_info": {
   "codemirror_mode": {
    "name": "ipython",
    "version": 3
   },
   "file_extension": ".py",
   "mimetype": "text/x-python",
   "name": "python",
   "nbconvert_exporter": "python",
   "pygments_lexer": "ipython3",
   "version": "3.7.6"
  }
 },
 "nbformat": 4,
 "nbformat_minor": 4
}
