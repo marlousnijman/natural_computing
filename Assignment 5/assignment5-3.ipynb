{
 "cells": [
  {
   "cell_type": "markdown",
   "metadata": {},
   "source": [
    "# Assignment 5 - Ensemble Learning\n"
   ]
  },
  {
   "cell_type": "markdown",
   "metadata": {},
   "source": [
    "## Imports"
   ]
  },
  {
   "cell_type": "code",
   "execution_count": 1,
   "metadata": {},
   "outputs": [],
   "source": [
    "import numpy as np\n",
    "from scipy.special import comb\n",
    "from math import ceil\n",
    "import matplotlib.pyplot as plt"
   ]
  },
  {
   "cell_type": "markdown",
   "metadata": {},
   "source": [
    "## Assignment 3"
   ]
  },
  {
   "cell_type": "markdown",
   "metadata": {},
   "source": [
    "### Helper Functions"
   ]
  },
  {
   "cell_type": "code",
   "execution_count": 2,
   "metadata": {},
   "outputs": [],
   "source": [
    "def majority_vote(N, m, p):\n",
    "    # start with probability of zero\n",
    "    prob = 0\n",
    "\n",
    "    # add probability of success for different combinations\n",
    "    for i in range(m, N + 1):\n",
    "        prob += comb(N, i) * p**i * (1 - p)**(N - i)\n",
    "\n",
    "    # return probability of success based on majority voting\n",
    "    return prob"
   ]
  },
  {
   "cell_type": "code",
   "execution_count": 3,
   "metadata": {},
   "outputs": [],
   "source": [
    "def compute_p_success(n1, n2, p1, p2, w1=1, w2=1):\n",
    "    # compute total (weighted) votes\n",
    "    N = (n1 * w1) + (n2 * w2)\n",
    "\n",
    "    # majority if the strong learner is correct\n",
    "    m_correct = ceil((N/2) - (w1*n1))\n",
    "\n",
    "    # majority if the strong learner is incorrect\n",
    "    m_incorrect = ceil(N/2)\n",
    "        \n",
    "    # if N is even, we need 1 extra to reach a majority\n",
    "    if((N % 2 ) == 0):\n",
    "        m_correct += 1\n",
    "        m_incorrect += 1\n",
    "\n",
    "    # calculate probability\n",
    "    prob = p1 * majority_vote(n2, m_correct, p2) + \\\n",
    "           (1 - p1) * majority_vote(n2, m_incorrect, p2)\n",
    "\n",
    "    # return probability of correct prediction\n",
    "    return prob "
   ]
  },
  {
   "cell_type": "code",
   "execution_count": 4,
   "metadata": {},
   "outputs": [],
   "source": [
    "def compute_weight(err):\n",
    "    alpha = np.log((1 - err) / err)\n",
    "\n",
    "    return alpha"
   ]
  },
  {
   "cell_type": "markdown",
   "metadata": {},
   "source": [
    "### 3.A"
   ]
  },
  {
   "cell_type": "code",
   "execution_count": 5,
   "metadata": {},
   "outputs": [],
   "source": [
    "p_strong = 0.8\n",
    "p_weak = 0.6\n",
    "n_weak = 10\n",
    "n_strong = 1"
   ]
  },
  {
   "cell_type": "code",
   "execution_count": 17,
   "metadata": {},
   "outputs": [
    {
     "name": "stdout",
     "output_type": "stream",
     "text": [
      "Ensemble probability for a correct prediction: 0.794\n"
     ]
    }
   ],
   "source": [
    "p_ensemble = compute_p_success(n_strong, n_weak, p_strong, p_weak)\n",
    "print(f\"Ensemble probability for a correct prediction: {p_ensemble:.3f}\")"
   ]
  },
  {
   "cell_type": "markdown",
   "metadata": {},
   "source": [
    "### 3.B"
   ]
  },
  {
   "cell_type": "code",
   "execution_count": 7,
   "metadata": {},
   "outputs": [],
   "source": [
    "w_weak = 1\n",
    "max_w = 15\n",
    "w_strong = np.arange(1, max_w + 1)"
   ]
  },
  {
   "cell_type": "code",
   "execution_count": 8,
   "metadata": {},
   "outputs": [],
   "source": [
    "probs = []\n",
    "for i in range(len(w_strong)):\n",
    "    p = compute_p_success(n_strong, n_weak, p_strong, p_weak, w_strong[i], w_weak)\n",
    "    probs.append(p)"
   ]
  },
  {
   "cell_type": "code",
   "execution_count": 9,
   "metadata": {},
   "outputs": [
    {
     "data": {
      "image/png": "[encoded data removed]",
      "text/plain": [
       "<Figure size 432x288 with 1 Axes>"
      ]
     },
     "metadata": {
      "needs_background": "light"
     },
     "output_type": "display_data"
    }
   ],
   "source": [
    "plt.plot(np.arange(1 ,max_w + 1), probs)\n",
    "plt.xticks(np.arange(1, max_w + 1, 2))\n",
    "plt.xlabel(\"Strong Classifier Weight\")\n",
    "plt.ylabel(\"Probability of a Correct Decision\")\n",
    "plt.savefig(\"strong_classifier_weights.png\")\n",
    "plt.show()"
   ]
  },
  {
   "cell_type": "markdown",
   "metadata": {},
   "source": [
    "### 3.C"
   ]
  },
  {
   "cell_type": "code",
   "execution_count": 10,
   "metadata": {},
   "outputs": [],
   "source": [
    "err_strong = 1 - p_strong\n",
    "err_weak = 1 - p_weak"
   ]
  },
  {
   "cell_type": "code",
   "execution_count": 11,
   "metadata": {},
   "outputs": [
    {
     "name": "stdout",
     "output_type": "stream",
     "text": [
      "Strong Classifier Weight: 1.386\n",
      "Weak Classifier Weight: 0.405\n"
     ]
    }
   ],
   "source": [
    "print(f\"Strong Classifier Weight: {compute_weight(err_strong):.3f}\")\n",
    "print(f\"Weak Classifier Weight: {compute_weight(err_weak):.3f}\")"
   ]
  },
  {
   "cell_type": "markdown",
   "metadata": {},
   "source": [
    "### 3.D"
   ]
  },
  {
   "cell_type": "code",
   "execution_count": 12,
   "metadata": {},
   "outputs": [],
   "source": [
    "errors = np.arange(0.01, 1, 0.01)"
   ]
  },
  {
   "cell_type": "code",
   "execution_count": 13,
   "metadata": {},
   "outputs": [],
   "source": [
    "weights = []\n",
    "for error in errors:\n",
    "    w = compute_weight(error)\n",
    "    weights.append(w)"
   ]
  },
  {
   "cell_type": "code",
   "execution_count": 14,
   "metadata": {},
   "outputs": [
    {
     "data": {
      "image/png": "[encoded data removed]",
      "text/plain": [
       "<Figure size 432x288 with 1 Axes>"
      ]
     },
     "metadata": {
      "needs_background": "light"
     },
     "output_type": "display_data"
    }
   ],
   "source": [
    "plt.plot(errors, weights)\n",
    "plt.xlabel(\"Base Learner Error\")\n",
    "plt.ylabel(\"AdaBoost Weight\")\n",
    "plt.savefig(\"adaboost_weights.png\")\n",
    "plt.show()"
   ]
  },
  {
   "cell_type": "code",
   "execution_count": null,
   "metadata": {},
   "outputs": [],
   "source": []
  }
 ],
 "metadata": {
  "kernelspec": {
   "display_name": "Python 3",
   "language": "python",
   "name": "python3"
  },
  "language_info": {
   "codemirror_mode": {
    "name": "ipython",
    "version": 3
   },
   "file_extension": ".py",
   "mimetype": "text/x-python",
   "name": "python",
   "nbconvert_exporter": "python",
   "pygments_lexer": "ipython3",
   "version": "3.7.6"
  }
 },
 "nbformat": 4,
 "nbformat_minor": 4
}
