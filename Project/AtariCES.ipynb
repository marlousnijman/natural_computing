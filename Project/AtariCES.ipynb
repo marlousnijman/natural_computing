{
 "cells": [
  {
   "cell_type": "markdown",
   "metadata": {},
   "source": [
    "# Canonical Evolutionary Strategies for Atari Games"
   ]
  },
  {
   "cell_type": "markdown",
   "metadata": {},
   "source": [
    "## Imports"
   ]
  },
  {
   "cell_type": "code",
   "execution_count": 24,
   "metadata": {},
   "outputs": [],
   "source": [
    "from model import DQN, mnih_DQN\n",
    "from AtariCES import AtariCES as CAF"
   ]
  },
  {
   "cell_type": "markdown",
   "metadata": {},
   "source": [
    "## Parameters"
   ]
  },
  {
   "cell_type": "markdown",
   "metadata": {},
   "source": [
    "### Game Parameters"
   ]
  },
  {
   "cell_type": "code",
   "execution_count": 25,
   "metadata": {},
   "outputs": [],
   "source": [
    "game = \"SpaceInvaders\"\n",
    "render = False\n",
    "max_step = 2500"
   ]
  },
  {
   "cell_type": "markdown",
   "metadata": {},
   "source": [
    "### Evolutionary Strategy Parameters"
   ]
  },
  {
   "cell_type": "code",
   "execution_count": 26,
   "metadata": {},
   "outputs": [],
   "source": [
<<<<<<< HEAD
    "sigma = 0.5\n",
    "n_offspring = 15\n",
    "n_parents = 3\n",
    "iterations = 3"
=======
    "sigma = [0.5,0.01] # [start, end] or value\n",
    "n_offspring = 25\n",
    "n_parents = 5\n",
    "iterations = 10\n",
    "parent_selection = \"topn\" # \"topn\", random\", \"tournament\"\n",
    "adaptive_type = 'log' #'constant', 'linear', 'exp', 'log'"
>>>>>>> bc861d3efe9e17fbd238d930e3b911e7583d0e8b
   ]
  },
  {
   "cell_type": "markdown",
   "metadata": {},
   "source": [
    "## Initiate Environment"
   ]
  },
  {
   "cell_type": "code",
   "execution_count": 27,
   "metadata": {},
   "outputs": [],
   "source": [
    "CAF = CAF(game, render, max_step=max_step, sigma=sigma,\n",
    "        n_parents=n_parents, n_offspring=n_offspring, iterations=iterations,\n",
    "        parent_selection=parent_selection, adaptive_type=adaptive_type)\n",
    "        \n",
    "env, n_actions, actions_meanings, state_dim = CAF.initiate_env()\n"
   ]
  },
  {
   "cell_type": "markdown",
   "metadata": {},
   "source": [
    "### Environment Details"
   ]
  },
  {
   "cell_type": "code",
   "execution_count": 28,
   "metadata": {},
   "outputs": [
    {
     "name": "stdout",
     "output_type": "stream",
     "text": [
      "Number of actions: 6\n",
      "Action meanings: ['NOOP', 'FIRE', 'RIGHT', 'LEFT', 'RIGHTFIRE', 'LEFTFIRE']\n",
      "State dimensions: (4, 84, 84)\n"
     ]
    }
   ],
   "source": [
    "print(f\"Number of actions: {n_actions}\")\n",
    "print(f\"Action meanings: {actions_meanings}\")\n",
    "print(f\"State dimensions: {state_dim}\")"
   ]
  },
  {
   "cell_type": "markdown",
   "metadata": {},
   "source": [
    "## Initiate Model"
   ]
  },
  {
   "cell_type": "code",
   "execution_count": 29,
   "metadata": {},
   "outputs": [
    {
     "name": "stdout",
     "output_type": "stream",
     "text": [
      "Model: \"sequential_172\"\n",
      "_________________________________________________________________\n",
      " Layer (type)                Output Shape              Param #   \n",
      "=================================================================\n",
      " conv2d_344 (Conv2D)         (None, 20, 20, 8)         1576      \n",
      "                                                                 \n",
      " activation_688 (Activation)  (None, 20, 20, 8)        0         \n",
      "                                                                 \n",
      " max_pooling2d_344 (MaxPooli  (None, 10, 10, 8)        0         \n",
      " ng2D)                                                           \n",
      "                                                                 \n",
      " conv2d_345 (Conv2D)         (None, 8, 8, 16)          1168      \n",
      "                                                                 \n",
      " activation_689 (Activation)  (None, 8, 8, 16)         0         \n",
      "                                                                 \n",
      " max_pooling2d_345 (MaxPooli  (None, 4, 4, 16)         0         \n",
      " ng2D)                                                           \n",
      "                                                                 \n",
      " flatten_172 (Flatten)       (None, 256)               0         \n",
      "                                                                 \n",
      " dense_344 (Dense)           (None, 400)               102800    \n",
      "                                                                 \n",
      " activation_690 (Activation)  (None, 400)              0         \n",
      "                                                                 \n",
      " dense_345 (Dense)           (None, 6)                 2406      \n",
      "                                                                 \n",
      " activation_691 (Activation)  (None, 6)                0         \n",
      "                                                                 \n",
      "=================================================================\n",
      "Total params: 107,950\n",
      "Trainable params: 107,950\n",
      "Non-trainable params: 0\n",
      "_________________________________________________________________\n",
      "None\n"
     ]
    }
   ],
   "source": [
    "model = mnih_DQN(n_actions=n_actions)\n",
    "print(model.summary())"
   ]
  },
  {
   "cell_type": "code",
   "execution_count": 30,
   "metadata": {},
   "outputs": [],
   "source": [
    "CAF.set_model(model)"
   ]
  },
  {
   "cell_type": "markdown",
   "metadata": {},
   "source": [
    "## Run"
   ]
  },
  {
   "cell_type": "code",
   "execution_count": 31,
   "metadata": {},
   "outputs": [
    {
     "name": "stdout",
     "output_type": "stream",
     "text": [
      "Iteration:  1\n"
     ]
    },
    {
     "name": "stderr",
     "output_type": "stream",
     "text": [
<<<<<<< HEAD
      "100%|██████████| 15/15 [05:32<00:00, 22.20s/it]\n"
=======
      "100%|██████████| 25/25 [08:19<00:00, 19.99s/it]\n"
>>>>>>> bc861d3efe9e17fbd238d930e3b911e7583d0e8b
     ]
    },
    {
     "name": "stdout",
     "output_type": "stream",
     "text": [
<<<<<<< HEAD
      "reward: [535. 400. 390. 265. 210. 205.  10.   5.   5.   0.   0.   0.   0.   0.\n",
      "   0.]\n",
      "best reward: 535.0\n",
      "average reward: 135.0\n",
      "worst reward: 0.0\n",
=======
      "[   0. 1140.   40.  200.   85.  910. 1180.  320.  460.  730.  675. 1315.\n",
      "  660.  860.  780.  720.  895.  570. 1230. 1135.  430.    0. 1335.   95.\n",
      "    0.]\n",
      "best reward: 1335.0\n",
>>>>>>> bc861d3efe9e17fbd238d930e3b911e7583d0e8b
      "Iteration:  2\n"
     ]
    },
    {
     "name": "stderr",
     "output_type": "stream",
     "text": [
<<<<<<< HEAD
      "100%|██████████| 15/15 [05:13<00:00, 20.91s/it]\n"
=======
      "100%|██████████| 25/25 [08:10<00:00, 19.61s/it]\n"
>>>>>>> bc861d3efe9e17fbd238d930e3b911e7583d0e8b
     ]
    },
    {
     "name": "stdout",
     "output_type": "stream",
     "text": [
<<<<<<< HEAD
      "reward: [665. 550. 390. 390. 390. 390. 375. 315. 275. 255. 230. 185. 170. 100.\n",
      "  90.]\n",
      "best reward: 665.0\n",
      "average reward: 318.0\n",
      "worst reward: 90.0\n",
=======
      "[ 405.  480. 1060.    0.  705. 1350.  520.  610.  235.  945.  370.   90.\n",
      "  540.  310.  850.  255.  935.    0.   25. 1355.  110.  365.    0.  915.\n",
      "  390.]\n",
      "best reward: 1355.0\n",
>>>>>>> bc861d3efe9e17fbd238d930e3b911e7583d0e8b
      "Iteration:  3\n"
     ]
    },
    {
     "name": "stderr",
     "output_type": "stream",
     "text": [
<<<<<<< HEAD
      "100%|██████████| 15/15 [05:23<00:00, 21.54s/it]"
=======
      "100%|██████████| 25/25 [07:40<00:00, 18.42s/it]\n"
     ]
    },
    {
     "name": "stdout",
     "output_type": "stream",
     "text": [
      "[ 880.    0.  580.  560.  665.  735. 1000.  800.  250. 1055.  680.  250.\n",
      "  420.  545.  720.    0.  910.  460.  885.  685.   60.   45.  945.  120.\n",
      "  760.]\n",
      "best reward: 1055.0\n",
      "Iteration:  4\n"
     ]
    },
    {
     "name": "stderr",
     "output_type": "stream",
     "text": [
      "100%|██████████| 25/25 [07:25<00:00, 17.81s/it]\n"
     ]
    },
    {
     "name": "stdout",
     "output_type": "stream",
     "text": [
      "[   0.  705.  750.  755. 1090.  930. 1030. 1060.  890.   95.  850.  745.\n",
      "  885.  960.  300.  655.  480.    0.  250.  740.  565.  125.  610. 1315.\n",
      "  605.]\n",
      "best reward: 1315.0\n",
      "Iteration:  5\n"
     ]
    },
    {
     "name": "stderr",
     "output_type": "stream",
     "text": [
      "100%|██████████| 25/25 [08:08<00:00, 19.55s/it]\n"
     ]
    },
    {
     "name": "stdout",
     "output_type": "stream",
     "text": [
      "[  95.  780.   15.   10.  900.  615.  640.   15.  250.   90.    0. 1315.\n",
      "  580.  300.    0.  950.  535.  160.   85.  435.  850.  560. 1310.  170.\n",
      "  195.]\n",
      "best reward: 1315.0\n",
      "Iteration:  6\n"
     ]
    },
    {
     "name": "stderr",
     "output_type": "stream",
     "text": [
      "100%|██████████| 25/25 [08:04<00:00, 19.38s/it]\n"
     ]
    },
    {
     "name": "stdout",
     "output_type": "stream",
     "text": [
      "[ 950.  290.   45.  960.  760. 1465.  140.  195.  755.  230.  960.   15.\n",
      "  920.  840.  210.  765.  780.  675.  530.  535.  550. 1045. 1050. 1295.\n",
      "  785.]\n",
      "best reward: 1465.0\n",
      "Iteration:  7\n"
     ]
    },
    {
     "name": "stderr",
     "output_type": "stream",
     "text": [
      "100%|██████████| 25/25 [08:07<00:00, 19.52s/it]\n"
     ]
    },
    {
     "name": "stdout",
     "output_type": "stream",
     "text": [
      "[ 300. 1335.   10.  160.  905.  720. 1445.    0.  800.  635.  860.  670.\n",
      "    0.  565.  285.  840.  325.  720.  495.  435.  575.  155.  405.    0.\n",
      "  815.]\n",
      "best reward: 1445.0\n",
      "Iteration:  8\n"
     ]
    },
    {
     "name": "stderr",
     "output_type": "stream",
     "text": [
      "100%|██████████| 25/25 [07:54<00:00, 19.00s/it]\n"
     ]
    },
    {
     "name": "stdout",
     "output_type": "stream",
     "text": [
      "[ 960.  255. 1105.  755.  330.  310.  190.  975.   25. 1505.  180.  230.\n",
      "  770.  685.  820.  900.  755.  955.  240. 1050.  335.  730.  630. 1325.\n",
      " 1385.]\n",
      "best reward: 1505.0\n",
      "Iteration:  9\n"
     ]
    },
    {
     "name": "stderr",
     "output_type": "stream",
     "text": [
      "100%|██████████| 25/25 [07:58<00:00, 19.13s/it]\n"
     ]
    },
    {
     "name": "stdout",
     "output_type": "stream",
     "text": [
      "[  75.  440.  395.   15.   40.   40.  700.  840.  440. 1110.  720. 1060.\n",
      "  630.  960.  370.  990. 1405.   10.  270.  105.  960.  510. 1110.   60.\n",
      " 1020.]\n",
      "best reward: 1405.0\n",
      "Iteration:  10\n"
     ]
    },
    {
     "name": "stderr",
     "output_type": "stream",
     "text": [
      "100%|██████████| 25/25 [07:45<00:00, 18.62s/it]\n"
>>>>>>> bc861d3efe9e17fbd238d930e3b911e7583d0e8b
     ]
    },
    {
     "name": "stdout",
     "output_type": "stream",
     "text": [
<<<<<<< HEAD
      "reward: [800. 540. 530. 530. 520. 475. 445. 440. 425. 395. 345. 315. 250. 135.\n",
      "  35.]\n",
      "best reward: 800.0\n",
      "average reward: 412.0\n",
      "worst reward: 35.0\n"
     ]
    },
    {
     "name": "stderr",
     "output_type": "stream",
     "text": [
      "\n"
=======
      "[ 770.  405. 1315.  140. 1100.  715.  495. 1515.  350.  790.    0.  840.\n",
      "   25.  695.  385. 1070.   40.  700.  160.    0.   95.    0.  640.  535.\n",
      "  170.]\n",
      "best reward: 1515.0\n"
>>>>>>> bc861d3efe9e17fbd238d930e3b911e7583d0e8b
     ]
    }
   ],
   "source": [
    "theta, best_rewards, average_rewards, worst_rewards = CAF.CES()"
   ]
  },
  {
   "cell_type": "markdown",
   "metadata": {},
   "source": [
    "## Plot results"
   ]
  },
  {
   "cell_type": "code",
   "execution_count": 32,
   "metadata": {},
   "outputs": [
    {
     "data": {
      "image/png": "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",
      "text/plain": [
       "<Figure size 432x288 with 1 Axes>"
      ]
     },
     "metadata": {
      "needs_background": "light"
     },
     "output_type": "display_data"
    }
   ],
   "source": [
    "CAF.plot_rewards(best_rewards, average_rewards, worst_rewards)"
   ]
  },
  {
   "cell_type": "markdown",
   "metadata": {},
   "source": [
    "## Show Final Generation"
   ]
  },
  {
   "cell_type": "code",
   "execution_count": 33,
   "metadata": {},
   "outputs": [
    {
     "name": "stdout",
     "output_type": "stream",
     "text": [
      "Finished\n"
     ]
    }
   ],
   "source": [
    "CAF.show_last(theta, max_step=max_step)"
   ]
  },
  {
   "cell_type": "code",
   "execution_count": null,
   "metadata": {},
   "outputs": [],
   "source": []
  }
 ],
 "metadata": {
  "interpreter": {
   "hash": "6b3a8bbf377d4ca1530282dfc9385f115aa599de11785bf312b469670b0fb4fa"
  },
  "kernelspec": {
   "display_name": "natcom",
   "language": "python",
   "name": "natcom"
  },
  "language_info": {
   "codemirror_mode": {
    "name": "ipython",
    "version": 3
   },
   "file_extension": ".py",
   "mimetype": "text/x-python",
   "name": "python",
   "nbconvert_exporter": "python",
   "pygments_lexer": "ipython3",
   "version": "3.7.11"
  }
 },
 "nbformat": 4,
 "nbformat_minor": 2
}
