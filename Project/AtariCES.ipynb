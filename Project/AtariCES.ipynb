{
 "cells": [
  {
   "cell_type": "markdown",
   "metadata": {},
   "source": [
    "# Canonical Evolutionary Strategies for Atari Games"
   ]
  },
  {
   "cell_type": "markdown",
   "metadata": {},
   "source": [
    "## Imports"
   ]
  },
  {
   "cell_type": "code",
   "execution_count": 1,
   "metadata": {},
   "outputs": [
    {
     "name": "stderr",
     "output_type": "stream",
     "text": [
      "c:\\Users\\Marlous\\anaconda3\\envs\\natcom\\lib\\site-packages\\gym\\envs\\registration.py:424: UserWarning: \u001b[33mWARN: Custom namespace `ALE` is being overridden by namespace `ALE`. If you are developing a plugin you shouldn't specify a namespace in `register` calls. The namespace is specified through the entry point package metadata.\u001b[0m\n",
      "  f\"Custom namespace `{spec.namespace}` is being overridden \"\n"
     ]
    }
   ],
   "source": [
    "from model import DQN\n",
    "from AtariCES import AtariCES as CAF"
   ]
  },
  {
   "cell_type": "markdown",
   "metadata": {},
   "source": [
    "## Parameters"
   ]
  },
  {
   "cell_type": "markdown",
   "metadata": {},
   "source": [
    "### Game Parameters"
   ]
  },
  {
   "cell_type": "code",
   "execution_count": 2,
   "metadata": {},
   "outputs": [],
   "source": [
    "game = \"SpaceInvaders\"\n",
    "render = False\n",
    "max_step = 2500"
   ]
  },
  {
   "cell_type": "markdown",
   "metadata": {},
   "source": [
    "### Evolutionary Strategy Parameters"
   ]
  },
  {
   "cell_type": "code",
   "execution_count": 3,
   "metadata": {},
   "outputs": [],
   "source": [
    "sigma = 0.3\n",
    "n_offspring = 25\n",
    "n_parents = 5\n",
    "iterations = 10\n",
    "parent_selection = \"tournament\" # \"topn\", random\", \"tournament\""
   ]
  },
  {
   "cell_type": "markdown",
   "metadata": {},
   "source": [
    "## Initiate Environment"
   ]
  },
  {
   "cell_type": "code",
   "execution_count": 4,
   "metadata": {},
   "outputs": [],
   "source": [
    "CAF = CAF(game, render, max_step=max_step, sigma=sigma,\n",
    "        n_parents=n_parents, n_offspring=n_offspring, iterations=iterations,\n",
    "        parent_selection=parent_selection)\n",
    "        \n",
    "env, n_actions, actions_meanings, state_dim = CAF.initiate_env()\n"
   ]
  },
  {
   "cell_type": "markdown",
   "metadata": {},
   "source": [
    "### Environment Details"
   ]
  },
  {
   "cell_type": "code",
   "execution_count": 5,
   "metadata": {},
   "outputs": [
    {
     "name": "stdout",
     "output_type": "stream",
     "text": [
      "Number of actions: 6\n",
      "Action meanings: ['NOOP', 'FIRE', 'RIGHT', 'LEFT', 'RIGHTFIRE', 'LEFTFIRE']\n",
      "State dimensions: (4, 84, 84)\n"
     ]
    }
   ],
   "source": [
    "print(f\"Number of actions: {n_actions}\")\n",
    "print(f\"Action meanings: {actions_meanings}\")\n",
    "print(f\"State dimensions: {state_dim}\")"
   ]
  },
  {
   "cell_type": "markdown",
   "metadata": {},
   "source": [
    "## Initiate Model"
   ]
  },
  {
   "cell_type": "code",
   "execution_count": 6,
   "metadata": {},
   "outputs": [
    {
     "name": "stdout",
     "output_type": "stream",
     "text": [
      "Model: \"sequential_1\"\n",
      "_________________________________________________________________\n",
      " Layer (type)                Output Shape              Param #   \n",
      "=================================================================\n",
      " conv2d_3 (Conv2D)           (None, 20, 20, 32)        8224      \n",
      "                                                                 \n",
      " batch_normalization_5 (Batc  (None, 20, 20, 32)       128       \n",
      " hNormalization)                                                 \n",
      "                                                                 \n",
      " activation_5 (Activation)   (None, 20, 20, 32)        0         \n",
      "                                                                 \n",
      " conv2d_4 (Conv2D)           (None, 9, 9, 64)          32832     \n",
      "                                                                 \n",
      " batch_normalization_6 (Batc  (None, 9, 9, 64)         256       \n",
      " hNormalization)                                                 \n",
      "                                                                 \n",
      " activation_6 (Activation)   (None, 9, 9, 64)          0         \n",
      "                                                                 \n",
      " conv2d_5 (Conv2D)           (None, 7, 7, 64)          36928     \n",
      "                                                                 \n",
      " batch_normalization_7 (Batc  (None, 7, 7, 64)         256       \n",
      " hNormalization)                                                 \n",
      "                                                                 \n",
      " activation_7 (Activation)   (None, 7, 7, 64)          0         \n",
      "                                                                 \n",
      " flatten_1 (Flatten)         (None, 3136)              0         \n",
      "                                                                 \n",
      " dense_2 (Dense)             (None, 512)               1606144   \n",
      "                                                                 \n",
      " batch_normalization_8 (Batc  (None, 512)              2048      \n",
      " hNormalization)                                                 \n",
      "                                                                 \n",
      " activation_8 (Activation)   (None, 512)               0         \n",
      "                                                                 \n",
      " dense_3 (Dense)             (None, 6)                 3078      \n",
      "                                                                 \n",
      " batch_normalization_9 (Batc  (None, 6)                24        \n",
      " hNormalization)                                                 \n",
      "                                                                 \n",
      " activation_9 (Activation)   (None, 6)                 0         \n",
      "                                                                 \n",
      "=================================================================\n",
      "Total params: 1,689,918\n",
      "Trainable params: 1,688,562\n",
      "Non-trainable params: 1,356\n",
      "_________________________________________________________________\n",
      "None\n"
     ]
    }
   ],
   "source": [
    "model = DQN(n_actions=n_actions)\n",
    "print(model.summary())"
   ]
  },
  {
   "cell_type": "code",
   "execution_count": 7,
   "metadata": {},
   "outputs": [],
   "source": [
    "CAF.set_model(model)"
   ]
  },
  {
   "cell_type": "markdown",
   "metadata": {},
   "source": [
    "## Run"
   ]
  },
  {
   "cell_type": "code",
   "execution_count": 8,
   "metadata": {},
   "outputs": [
    {
     "name": "stdout",
     "output_type": "stream",
     "text": [
      "Iteration:  1\n"
     ]
    },
    {
     "name": "stderr",
     "output_type": "stream",
     "text": [
      "100%|██████████| 25/25 [09:06<00:00, 21.88s/it]\n"
     ]
    },
    {
     "name": "stdout",
     "output_type": "stream",
     "text": [
      "[   0.    0.    0.    0.    0.    0. 1315.    0.    0.    0.    0. 1315.\n",
      "    0. 1315.    0. 1315.    0.  960. 1315. 1315. 1315.  960. 1315.  960.\n",
      "    0.]\n",
      "best reward: 1315.0\n",
      "Iteration:  2\n"
     ]
    },
    {
     "name": "stderr",
     "output_type": "stream",
     "text": [
      "100%|██████████| 25/25 [08:58<00:00, 21.54s/it]\n"
     ]
    },
    {
     "name": "stdout",
     "output_type": "stream",
     "text": [
      "[1315. 1080. 1315.    0. 1315.    0.    0. 1315. 1315. 1315. 1315.    0.\n",
      " 1315. 1315.  960. 1315.    0. 1315. 1315.  960. 1315.    0.    0.    0.\n",
      "    0.]\n",
      "best reward: 1315.0\n",
      "Iteration:  3\n"
     ]
    },
    {
     "name": "stderr",
     "output_type": "stream",
     "text": [
      "100%|██████████| 25/25 [08:08<00:00, 19.52s/it]\n"
     ]
    },
    {
     "name": "stdout",
     "output_type": "stream",
     "text": [
      "[1315.  960.  960. 1315. 1315. 1315. 1315. 1315. 1315.  960. 1315. 1315.\n",
      " 1315. 1315. 1315. 1315. 1315.    0.    0. 1315. 1315. 1315. 1315. 1315.\n",
      " 1315.]\n",
      "best reward: 1315.0\n",
      "Iteration:  4\n"
     ]
    },
    {
     "name": "stderr",
     "output_type": "stream",
     "text": [
      "100%|██████████| 25/25 [07:11<00:00, 17.25s/it]\n"
     ]
    },
    {
     "name": "stdout",
     "output_type": "stream",
     "text": [
      "[1315. 1315. 1315. 1315. 1315. 1315. 1315. 1315.    0.    0. 1315. 1315.\n",
      " 1315. 1315. 1315. 1315. 1315. 1315. 1315. 1315. 1315. 1315. 1315. 1315.\n",
      " 1315.]\n",
      "best reward: 1315.0\n",
      "Iteration:  5\n"
     ]
    },
    {
     "name": "stderr",
     "output_type": "stream",
     "text": [
      "100%|██████████| 25/25 [07:08<00:00, 17.13s/it]\n"
     ]
    },
    {
     "name": "stdout",
     "output_type": "stream",
     "text": [
      "[1315.    0.    0. 1315.    0.    0. 1315. 1315. 1315. 1315.  960. 1315.\n",
      " 1315. 1315.    0. 1315. 1315. 1315.    0.    0.    0.    0. 1315. 1315.\n",
      " 1315.]\n",
      "best reward: 1315.0\n",
      "Iteration:  6\n"
     ]
    },
    {
     "name": "stderr",
     "output_type": "stream",
     "text": [
      "100%|██████████| 25/25 [07:15<00:00, 17.42s/it]\n"
     ]
    },
    {
     "name": "stdout",
     "output_type": "stream",
     "text": [
      "[1315. 1315. 1315. 1315.    0. 1315.    0. 1315.    0. 1315.    0. 1315.\n",
      " 1315. 1315. 1315. 1315.    0. 1315. 1315. 1315. 1315. 1315. 1315. 1315.\n",
      " 1315.]\n",
      "best reward: 1315.0\n",
      "Iteration:  7\n"
     ]
    },
    {
     "name": "stderr",
     "output_type": "stream",
     "text": [
      "100%|██████████| 25/25 [07:14<00:00, 17.40s/it]\n"
     ]
    },
    {
     "name": "stdout",
     "output_type": "stream",
     "text": [
      "[1315. 1315. 1315. 1315. 1315. 1315. 1315. 1315. 1315. 1315. 1315. 1315.\n",
      " 1315. 1315. 1315. 1315. 1315. 1315. 1315. 1315. 1315. 1315. 1315. 1315.\n",
      " 1315.]\n",
      "best reward: 1315.0\n",
      "Iteration:  8\n"
     ]
    },
    {
     "name": "stderr",
     "output_type": "stream",
     "text": [
      "100%|██████████| 25/25 [07:03<00:00, 16.96s/it]\n"
     ]
    },
    {
     "name": "stdout",
     "output_type": "stream",
     "text": [
      "[1315. 1315. 1315. 1315. 1315. 1315. 1315. 1315. 1315. 1315. 1315. 1315.\n",
      " 1315. 1315. 1315. 1315. 1315. 1315. 1315. 1315. 1315. 1315. 1315. 1315.\n",
      " 1315.]\n",
      "best reward: 1315.0\n",
      "Iteration:  9\n"
     ]
    },
    {
     "name": "stderr",
     "output_type": "stream",
     "text": [
      "100%|██████████| 25/25 [07:10<00:00, 17.20s/it]\n"
     ]
    },
    {
     "name": "stdout",
     "output_type": "stream",
     "text": [
      "[1315. 1315. 1315. 1315. 1315. 1315. 1315. 1440. 1315. 1315. 1315.  960.\n",
      " 1315. 1315. 1315. 1315. 1315. 1315. 1315. 1315. 1315. 1315. 1315. 1315.\n",
      " 1315.]\n",
      "best reward: 1440.0\n",
      "Iteration:  10\n"
     ]
    },
    {
     "name": "stderr",
     "output_type": "stream",
     "text": [
      "100%|██████████| 25/25 [07:03<00:00, 16.94s/it]"
     ]
    },
    {
     "name": "stdout",
     "output_type": "stream",
     "text": [
      "[1315. 1315. 1315. 1315. 1315. 1315. 1315. 1315. 1315. 1315. 1315. 1315.\n",
      " 1315. 1315. 1315. 1315. 1315. 1315. 1315. 1315. 1315. 1315. 1315. 1315.\n",
      " 1315.]\n",
      "best reward: 1315.0\n"
     ]
    },
    {
     "name": "stderr",
     "output_type": "stream",
     "text": [
      "\n"
     ]
    }
   ],
   "source": [
    "theta, rewards = CAF.CES()"
   ]
  },
  {
   "cell_type": "markdown",
   "metadata": {},
   "source": [
    "## Show Final Generation"
   ]
  },
  {
   "cell_type": "code",
   "execution_count": 9,
   "metadata": {},
   "outputs": [
    {
     "name": "stdout",
     "output_type": "stream",
     "text": [
      "Finished\n"
     ]
    }
   ],
   "source": [
    "CAF.show_last(theta, max_step=max_step)"
   ]
  },
  {
   "cell_type": "code",
   "execution_count": null,
   "metadata": {},
   "outputs": [],
   "source": []
  }
 ],
 "metadata": {
  "interpreter": {
   "hash": "6b3a8bbf377d4ca1530282dfc9385f115aa599de11785bf312b469670b0fb4fa"
  },
  "kernelspec": {
   "display_name": "Python 3.7.11 ('natcom')",
   "language": "python",
   "name": "python3"
  },
  "language_info": {
   "codemirror_mode": {
    "name": "ipython",
    "version": 3
   },
   "file_extension": ".py",
   "mimetype": "text/x-python",
   "name": "python",
   "nbconvert_exporter": "python",
   "pygments_lexer": "ipython3",
   "version": "3.7.11"
  }
 },
 "nbformat": 4,
 "nbformat_minor": 2
}
