{
 "cells": [
  {
   "cell_type": "markdown",
   "metadata": {},
   "source": [
    "# OpenAI Gym"
   ]
  },
  {
   "cell_type": "markdown",
   "metadata": {},
   "source": [
    "## Imports"
   ]
  },
  {
   "cell_type": "code",
   "execution_count": 1,
   "metadata": {},
   "outputs": [
    {
     "name": "stderr",
     "output_type": "stream",
     "text": [
      "c:\\Users\\Marlous\\anaconda3\\envs\\natcom\\lib\\site-packages\\gym\\envs\\registration.py:424: UserWarning: \u001b[33mWARN: Custom namespace `ALE` is being overridden by namespace `ALE`. If you are developing a plugin you shouldn't specify a namespace in `register` calls. The namespace is specified through the entry point package metadata.\u001b[0m\n",
      "  f\"Custom namespace `{spec.namespace}` is being overridden \"\n",
      "c:\\Users\\Marlous\\anaconda3\\envs\\natcom\\lib\\site-packages\\flatbuffers\\compat.py:19: DeprecationWarning: the imp module is deprecated in favour of importlib; see the module's documentation for alternative uses\n",
      "  import imp\n"
     ]
    }
   ],
   "source": [
    "import gym\n",
    "import numpy as np\n",
    "from model import DQN\n",
    "from gym.wrappers import AtariPreprocessing, FrameStack\n",
    "import matplotlib.pyplot as plt\n",
    "from tqdm import tqdm"
   ]
  },
  {
   "cell_type": "markdown",
   "metadata": {},
   "source": [
    "## Parameters"
   ]
  },
  {
   "cell_type": "markdown",
   "metadata": {},
   "source": [
    "## Initiate Environment"
   ]
  },
  {
   "cell_type": "code",
   "execution_count": 2,
   "metadata": {},
   "outputs": [
    {
     "data": {
      "text/plain": [
       "<gym.wrappers.frame_stack.LazyFrames at 0x19b36b7a6d8>"
      ]
     },
     "execution_count": 2,
     "metadata": {},
     "output_type": "execute_result"
    }
   ],
   "source": [
    "env = gym.make('BreakoutNoFrameskip-v4')\n",
    "env = AtariPreprocessing(env, noop_max=30)\n",
    "env = FrameStack(env, num_stack=4)\n",
    "env.reset()"
   ]
  },
  {
   "cell_type": "markdown",
   "metadata": {},
   "source": [
    "## Environment Details"
   ]
  },
  {
   "cell_type": "code",
   "execution_count": 3,
   "metadata": {},
   "outputs": [
    {
     "name": "stdout",
     "output_type": "stream",
     "text": [
      "Number of actions: 4\n",
      "Action meanings: ['NOOP', 'FIRE', 'RIGHT', 'LEFT']\n",
      "State dimensions: (4, 84, 84)\n"
     ]
    }
   ],
   "source": [
    "n_actions = env.action_space.n\n",
    "actions_meanings = env.env.get_action_meanings()\n",
    "state_dim = env.observation_space.shape\n",
    "print(f\"Number of actions: {n_actions}\")\n",
    "print(f\"Action meanings: {actions_meanings}\")\n",
    "print(f\"State dimensions: {state_dim}\")"
   ]
  },
  {
   "cell_type": "markdown",
   "metadata": {},
   "source": [
    "## DQN Model Architecture"
   ]
  },
  {
   "cell_type": "code",
   "execution_count": 4,
   "metadata": {},
   "outputs": [
    {
     "name": "stdout",
     "output_type": "stream",
     "text": [
      "Model: \"sequential\"\n",
      "_________________________________________________________________\n",
      " Layer (type)                Output Shape              Param #   \n",
      "=================================================================\n",
      " conv2d (Conv2D)             (None, 20, 20, 32)        8224      \n",
      "                                                                 \n",
      " batch_normalization (BatchN  (None, 20, 20, 32)       128       \n",
      " ormalization)                                                   \n",
      "                                                                 \n",
      " activation (Activation)     (None, 20, 20, 32)        0         \n",
      "                                                                 \n",
      " conv2d_1 (Conv2D)           (None, 9, 9, 64)          32832     \n",
      "                                                                 \n",
      " batch_normalization_1 (Batc  (None, 9, 9, 64)         256       \n",
      " hNormalization)                                                 \n",
      "                                                                 \n",
      " activation_1 (Activation)   (None, 9, 9, 64)          0         \n",
      "                                                                 \n",
      " conv2d_2 (Conv2D)           (None, 7, 7, 64)          36928     \n",
      "                                                                 \n",
      " batch_normalization_2 (Batc  (None, 7, 7, 64)         256       \n",
      " hNormalization)                                                 \n",
      "                                                                 \n",
      " activation_2 (Activation)   (None, 7, 7, 64)          0         \n",
      "                                                                 \n",
      " flatten (Flatten)           (None, 3136)              0         \n",
      "                                                                 \n",
      " dense (Dense)               (None, 512)               1606144   \n",
      "                                                                 \n",
      " batch_normalization_3 (Batc  (None, 512)              2048      \n",
      " hNormalization)                                                 \n",
      "                                                                 \n",
      " activation_3 (Activation)   (None, 512)               0         \n",
      "                                                                 \n",
      " dense_1 (Dense)             (None, 4)                 2052      \n",
      "                                                                 \n",
      " batch_normalization_4 (Batc  (None, 4)                16        \n",
      " hNormalization)                                                 \n",
      "                                                                 \n",
      " activation_4 (Activation)   (None, 4)                 0         \n",
      "                                                                 \n",
      "=================================================================\n",
      "Total params: 1,688,884\n",
      "Trainable params: 1,687,532\n",
      "Non-trainable params: 1,352\n",
      "_________________________________________________________________\n",
      "None\n"
     ]
    }
   ],
   "source": [
    "model = DQN()\n",
    "print(model.summary())"
   ]
  },
  {
   "cell_type": "markdown",
   "metadata": {},
   "source": [
    "## Play Breakout"
   ]
  },
  {
   "cell_type": "code",
   "execution_count": 5,
   "metadata": {},
   "outputs": [],
   "source": [
    "def plot_frames(frames):\n",
    "    fig, axs = plt.subplots(1, frames.shape[2])\n",
    "    for i, ax in enumerate(axs.flat):\n",
    "        ax.imshow(frames[:,:,i], cmap=\"gray\")\n",
    "        ax.axis(\"off\")\n",
    "        ax.set_title(f\"frame {i+1}\")\n",
    "    plt.savefig(\"processed_input.png\")"
   ]
  },
  {
   "cell_type": "code",
   "execution_count": 6,
   "metadata": {},
   "outputs": [],
   "source": [
    "def get_frames(observation):\n",
    "    observation = observation.__array__().transpose(1,2,0)\n",
    "    observation = np.expand_dims(observation, axis=0)\n",
    "    \n",
    "    return observation"
   ]
  },
  {
   "cell_type": "code",
   "execution_count": 7,
   "metadata": {},
   "outputs": [],
   "source": [
    "def episode(model, max_step=10000):\n",
    "    env = gym.make('BreakoutNoFrameskip-v4')#, render_mode='human')\n",
    "    env = AtariPreprocessing(env, noop_max=30)\n",
    "    env = FrameStack(env, num_stack=4)\n",
    "    frames = get_frames(env.reset())\n",
    "\n",
    "    episode_reward = 0\n",
    "    step = 0\n",
    "\n",
    "    while step < max_step:\n",
    "        # env.render(mode=\"rgb_array\")\n",
    "        step += 1\n",
    "\n",
    "        action = np.argmax(model(frames).numpy())\n",
    "        # print(model(frames).numpy())\n",
    "        # print(action)\n",
    "        frames, reward, done, info = env.step(action)\n",
    "        frames = get_frames(frames)\n",
    "\n",
    "        episode_reward += reward\n",
    "        if done: \n",
    "            frames = get_frames(env.reset())\n",
    "\n",
    "    return episode_reward\n",
    "\n",
    "    "
   ]
  },
  {
   "cell_type": "code",
   "execution_count": 8,
   "metadata": {},
   "outputs": [],
   "source": [
    "def get_weights(parents):\n",
    "    W = [np.log(parents - 0.5) - np.log(i) for i in range(1, parents+1)]\n",
    "    W /= np.sum(W)\n",
    "    \n",
    "    return W"
   ]
  },
  {
   "cell_type": "code",
   "execution_count": 9,
   "metadata": {},
   "outputs": [],
   "source": [
    "def get_start_parameters(model):\n",
    "    parameters = model.trainable_weights\n",
    "    parameters = np.concatenate(parameters, axis=None)\n",
    "    start_weights = np.random.normal(0, 0.05, parameters.shape)\n",
    "\n",
    "    return start_weights\n"
   ]
  },
  {
   "cell_type": "code",
   "execution_count": 10,
   "metadata": {},
   "outputs": [],
   "source": [
    "def get_model_weights(theta, mut_stepsize, e):\n",
    "    model = DQN()\n",
    "    parameters = model.trainable_weights\n",
    "    start_idx = 0\n",
    "    w = theta + mut_stepsize * e\n",
    "\n",
    "    for p in parameters:\n",
    "        n = len(p.numpy().flatten()) if len(p.shape) > 1 else len(p.numpy())\n",
    "        p.assign(w[start_idx:(start_idx+n)].reshape(p.shape))\n",
    "        start_idx += n\n",
    "    \n",
    "    return model"
   ]
  },
  {
   "cell_type": "code",
   "execution_count": 11,
   "metadata": {},
   "outputs": [],
   "source": [
    "def CES(model, mut_stepsize, parents, n_offspring, iterations):\n",
    "    theta = get_start_parameters(model)\n",
    "    W = get_weights(parents)\n",
    "    best_r = np.zeros((iterations))\n",
    "    print(theta[:10])\n",
    "    \n",
    "    for t in range(iterations):\n",
    "        print('Iteration: ',t+1)\n",
    "        e = np.zeros((n_offspring, theta.shape[0]))\n",
    "        r = np.zeros((n_offspring))\n",
    "\n",
    "        for i in tqdm(range(n_offspring)):\n",
    "            e[i] = np.random.normal(0, 1, size=theta.shape)\n",
    "            new_model = get_model_weights(theta, mut_stepsize, e[i])\n",
    "            r[i] = episode(new_model)\n",
    "\n",
    "        best_rs = r.argsort()\n",
    "        best_r[t] = np.max(r)\n",
    "        print(f\"best reward: {best_r[t]}\")\n",
    "        best_es = e[best_rs][:parents]\n",
    "        \n",
    "        theta += mut_stepsize * np.sum([W[i] * best_es[i] for i in range(len(W))], axis=0)\n",
    "        print(theta[:10])\n",
    "\n",
    "    return best_r"
   ]
  },
  {
   "cell_type": "code",
   "execution_count": 12,
   "metadata": {},
   "outputs": [
    {
     "name": "stdout",
     "output_type": "stream",
     "text": [
      "[ 0.07258148  0.0232764  -0.00779108  0.01185906 -0.02810984  0.01599544\n",
      " -0.03274638  0.07308015  0.01139153  0.00517279]\n",
      "Iteration:  1\n"
     ]
    },
    {
     "name": "stderr",
     "output_type": "stream",
     "text": [
      "100%|██████████| 10/10 [12:22<00:00, 74.27s/it]\n"
     ]
    },
    {
     "name": "stdout",
     "output_type": "stream",
     "text": [
      "best reward: 0.0\n",
      "[ 0.0208969   0.00936549  0.0397299   0.0519671   0.02989817 -0.05376135\n",
      " -0.10670187  0.16139178 -0.01496959 -0.05164074]\n",
      "Iteration:  2\n"
     ]
    },
    {
     "name": "stderr",
     "output_type": "stream",
     "text": [
      "100%|██████████| 10/10 [11:34<00:00, 69.43s/it]\n"
     ]
    },
    {
     "name": "stdout",
     "output_type": "stream",
     "text": [
      "best reward: 108.0\n",
      "[ 0.09599988  0.09960373  0.03545748  0.10351636 -0.00076111 -0.13247854\n",
      " -0.22959453  0.10241194  0.0197796  -0.01089398]\n",
      "Iteration:  3\n"
     ]
    },
    {
     "name": "stderr",
     "output_type": "stream",
     "text": [
      "100%|██████████| 10/10 [11:10<00:00, 67.02s/it]\n"
     ]
    },
    {
     "name": "stdout",
     "output_type": "stream",
     "text": [
      "best reward: 108.0\n",
      "[ 0.1431      0.22978684  0.10907066  0.06283911 -0.03580116 -0.07281659\n",
      " -0.44818027  0.05033631  0.06878754  0.02093752]\n",
      "Iteration:  4\n"
     ]
    },
    {
     "name": "stderr",
     "output_type": "stream",
     "text": [
      " 90%|█████████ | 9/10 [13:32<01:50, 110.20s/it]"
     ]
    }
   ],
   "source": [
    "model = DQN()\n",
    "rewards = CES(model, 0.1, 5, 10, 5)"
   ]
  },
  {
   "cell_type": "code",
   "execution_count": null,
   "metadata": {},
   "outputs": [],
   "source": [
    "print(rewards)"
   ]
  },
  {
   "cell_type": "code",
   "execution_count": null,
   "metadata": {},
   "outputs": [],
   "source": []
  }
 ],
 "metadata": {
  "interpreter": {
   "hash": "6b3a8bbf377d4ca1530282dfc9385f115aa599de11785bf312b469670b0fb4fa"
  },
  "kernelspec": {
   "display_name": "natcom",
   "language": "python",
   "name": "natcom"
  },
  "language_info": {
   "codemirror_mode": {
    "name": "ipython",
    "version": 3
   },
   "file_extension": ".py",
   "mimetype": "text/x-python",
   "name": "python",
   "nbconvert_exporter": "python",
   "pygments_lexer": "ipython3",
   "version": "3.7.11"
  },
  "orig_nbformat": 4
 },
 "nbformat": 4,
 "nbformat_minor": 2
}
