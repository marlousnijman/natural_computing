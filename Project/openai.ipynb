{
 "cells": [
  {
   "cell_type": "markdown",
   "metadata": {},
   "source": [
    "# OpenAI Gym"
   ]
  },
  {
   "cell_type": "markdown",
   "metadata": {},
   "source": [
    "## Imports"
   ]
  },
  {
   "cell_type": "code",
   "execution_count": 1,
   "metadata": {},
   "outputs": [
    {
     "name": "stderr",
     "output_type": "stream",
     "text": [
      "c:\\Users\\Marlous\\anaconda3\\envs\\natcom\\lib\\site-packages\\gym\\envs\\registration.py:424: UserWarning: \u001b[33mWARN: Custom namespace `ALE` is being overridden by namespace `ALE`. If you are developing a plugin you shouldn't specify a namespace in `register` calls. The namespace is specified through the entry point package metadata.\u001b[0m\n",
      "  f\"Custom namespace `{spec.namespace}` is being overridden \"\n",
      "c:\\Users\\Marlous\\anaconda3\\envs\\natcom\\lib\\site-packages\\flatbuffers\\compat.py:19: DeprecationWarning: the imp module is deprecated in favour of importlib; see the module's documentation for alternative uses\n",
      "  import imp\n"
     ]
    }
   ],
   "source": [
    "import gym\n",
    "import numpy as np\n",
    "from model import DQN\n",
    "from gym.wrappers import AtariPreprocessing, FrameStack\n",
    "import matplotlib.pyplot as plt\n",
    "from tqdm import tqdm"
   ]
  },
  {
   "cell_type": "markdown",
   "metadata": {},
   "source": [
    "## Parameters"
   ]
  },
  {
   "cell_type": "markdown",
   "metadata": {},
   "source": [
    "## Initiate Environment"
   ]
  },
  {
   "cell_type": "code",
   "execution_count": 2,
   "metadata": {},
   "outputs": [
    {
     "data": {
      "text/plain": [
       "<gym.wrappers.frame_stack.LazyFrames at 0x2072ae10778>"
      ]
     },
     "execution_count": 2,
     "metadata": {},
     "output_type": "execute_result"
    }
   ],
   "source": [
    "env = gym.make(\"MsPacmanNoFrameskip-v4\", full_action_space=False)\n",
    "env = AtariPreprocessing(env, noop_max=30)\n",
    "env = FrameStack(env, num_stack=4)\n",
    "env.reset()"
   ]
  },
  {
   "cell_type": "markdown",
   "metadata": {},
   "source": [
    "## Environment Details"
   ]
  },
  {
   "cell_type": "code",
   "execution_count": 3,
   "metadata": {},
   "outputs": [
    {
     "name": "stdout",
     "output_type": "stream",
     "text": [
      "Number of actions: 9\n",
      "Action meanings: ['NOOP', 'UP', 'RIGHT', 'LEFT', 'DOWN', 'UPRIGHT', 'UPLEFT', 'DOWNRIGHT', 'DOWNLEFT']\n",
      "State dimensions: (4, 84, 84)\n"
     ]
    }
   ],
   "source": [
    "n_actions = env.action_space.n\n",
    "actions_meanings = env.env.get_action_meanings()\n",
    "state_dim = env.observation_space.shape\n",
    "print(f\"Number of actions: {n_actions}\")\n",
    "print(f\"Action meanings: {actions_meanings}\")\n",
    "print(f\"State dimensions: {state_dim}\")"
   ]
  },
  {
   "cell_type": "markdown",
   "metadata": {},
   "source": [
    "## DQN Model Architecture"
   ]
  },
  {
   "cell_type": "code",
   "execution_count": 4,
   "metadata": {},
   "outputs": [
    {
     "name": "stdout",
     "output_type": "stream",
     "text": [
      "Model: \"sequential\"\n",
      "_________________________________________________________________\n",
      " Layer (type)                Output Shape              Param #   \n",
      "=================================================================\n",
      " conv2d (Conv2D)             (None, 20, 20, 32)        8224      \n",
      "                                                                 \n",
      " batch_normalization (BatchN  (None, 20, 20, 32)       128       \n",
      " ormalization)                                                   \n",
      "                                                                 \n",
      " activation (Activation)     (None, 20, 20, 32)        0         \n",
      "                                                                 \n",
      " conv2d_1 (Conv2D)           (None, 9, 9, 64)          32832     \n",
      "                                                                 \n",
      " batch_normalization_1 (Batc  (None, 9, 9, 64)         256       \n",
      " hNormalization)                                                 \n",
      "                                                                 \n",
      " activation_1 (Activation)   (None, 9, 9, 64)          0         \n",
      "                                                                 \n",
      " conv2d_2 (Conv2D)           (None, 7, 7, 64)          36928     \n",
      "                                                                 \n",
      " batch_normalization_2 (Batc  (None, 7, 7, 64)         256       \n",
      " hNormalization)                                                 \n",
      "                                                                 \n",
      " activation_2 (Activation)   (None, 7, 7, 64)          0         \n",
      "                                                                 \n",
      " flatten (Flatten)           (None, 3136)              0         \n",
      "                                                                 \n",
      " dense (Dense)               (None, 512)               1606144   \n",
      "                                                                 \n",
      " batch_normalization_3 (Batc  (None, 512)              2048      \n",
      " hNormalization)                                                 \n",
      "                                                                 \n",
      " activation_3 (Activation)   (None, 512)               0         \n",
      "                                                                 \n",
      " dense_1 (Dense)             (None, 4)                 2052      \n",
      "                                                                 \n",
      " batch_normalization_4 (Batc  (None, 4)                16        \n",
      " hNormalization)                                                 \n",
      "                                                                 \n",
      " activation_4 (Activation)   (None, 4)                 0         \n",
      "                                                                 \n",
      "=================================================================\n",
      "Total params: 1,688,884\n",
      "Trainable params: 1,687,532\n",
      "Non-trainable params: 1,352\n",
      "_________________________________________________________________\n",
      "None\n"
     ]
    }
   ],
   "source": [
    "model = DQN()\n",
    "print(model.summary())"
   ]
  },
  {
   "cell_type": "markdown",
   "metadata": {},
   "source": [
    "## Play Breakout"
   ]
  },
  {
   "cell_type": "code",
   "execution_count": 5,
   "metadata": {},
   "outputs": [],
   "source": [
    "def plot_frames(frames):\n",
    "    fig, axs = plt.subplots(1, frames.shape[2])\n",
    "    for i, ax in enumerate(axs.flat):\n",
    "        ax.imshow(frames[:,:,i], cmap=\"gray\")\n",
    "        ax.axis(\"off\")\n",
    "        ax.set_title(f\"frame {i+1}\")\n",
    "    plt.savefig(\"processed_input.png\")"
   ]
  },
  {
   "cell_type": "code",
   "execution_count": 6,
   "metadata": {},
   "outputs": [],
   "source": [
    "def get_frames(observation):\n",
    "    observation = observation.__array__().transpose(1,2,0)\n",
    "    observation = np.expand_dims(observation, axis=0)\n",
    "    \n",
    "    return observation"
   ]
  },
  {
   "cell_type": "code",
   "execution_count": 7,
   "metadata": {},
   "outputs": [],
   "source": [
    "def episode(model, max_step=1000):\n",
    "    env = gym.make(\"MsPacmanNoFrameskip-v4\", full_action_space=False, difficulty=0)#, render_mode='human')\n",
    "    env = AtariPreprocessing(env, noop_max=30)\n",
    "    env = FrameStack(env, num_stack=4)\n",
    "    frames = get_frames(env.reset())\n",
    "\n",
    "    episode_reward = 0\n",
    "    step = 0\n",
    "\n",
    "    while step < max_step:\n",
    "        # env.render(mode=\"rgb_array\")\n",
    "        step += 1\n",
    "\n",
    "        action = np.argmax(model(frames).numpy())\n",
    "        # print(model(frames).numpy())\n",
    "        # print(action)\n",
    "        frames, reward, done, info = env.step(action)\n",
    "        frames = get_frames(frames)\n",
    "\n",
    "        episode_reward += reward\n",
    "        if done: \n",
    "            frames = get_frames(env.reset())\n",
    "\n",
    "    return episode_reward\n",
    "\n",
    "    "
   ]
  },
  {
   "cell_type": "code",
   "execution_count": 8,
   "metadata": {},
   "outputs": [],
   "source": [
    "def get_weights(parents):\n",
    "    W = [np.log(parents - 0.5) - np.log(i) for i in range(1, parents+1)]\n",
    "    W /= np.sum(W)\n",
    "    \n",
    "    return W"
   ]
  },
  {
   "cell_type": "code",
   "execution_count": 9,
   "metadata": {},
   "outputs": [],
   "source": [
    "def get_start_parameters(model):\n",
    "    parameters = model.trainable_weights\n",
    "    parameters = np.concatenate(parameters, axis=None)\n",
    "    start_weights = np.random.normal(0, 0.05, parameters.shape)\n",
    "\n",
    "    return start_weights\n"
   ]
  },
  {
   "cell_type": "code",
   "execution_count": 10,
   "metadata": {},
   "outputs": [],
   "source": [
    "def get_model_weights(theta, mut_stepsize, e):\n",
    "    model = DQN(n_actions=n_actions)\n",
    "    parameters = model.trainable_weights\n",
    "    start_idx = 0\n",
    "    w = theta + mut_stepsize * e\n",
    "\n",
    "    for p in parameters:\n",
    "        n = len(p.numpy().flatten()) if len(p.shape) > 1 else len(p.numpy())\n",
    "        p.assign(w[start_idx:(start_idx+n)].reshape(p.shape))\n",
    "        start_idx += n\n",
    "    \n",
    "    return model"
   ]
  },
  {
   "cell_type": "code",
   "execution_count": 11,
   "metadata": {},
   "outputs": [],
   "source": [
    "def CES(model, mut_stepsize, parents, n_offspring, iterations):\n",
    "    theta = get_start_parameters(model)\n",
    "    W = get_weights(parents)\n",
    "    best_r = np.zeros((iterations))\n",
    "    print(theta[:10])\n",
    "    \n",
    "    for t in range(iterations):\n",
    "        print('Iteration: ',t+1)\n",
    "        e = np.zeros((n_offspring, theta.shape[0]))\n",
    "        r = np.zeros((n_offspring))\n",
    "\n",
    "        for i in tqdm(range(n_offspring)):\n",
    "            e[i] = np.random.normal(0, 1, size=theta.shape)\n",
    "            new_model = get_model_weights(theta, mut_stepsize, e[i])\n",
    "            r[i] = episode(new_model)\n",
    "\n",
    "        best_rs = r.argsort()\n",
    "        best_r[t] = np.max(r)\n",
    "        print(f\"best reward: {best_r[t]}\")\n",
    "        best_es = e[best_rs][:parents]\n",
    "        \n",
    "        theta += mut_stepsize * np.sum([W[i] * best_es[i] for i in range(len(W))], axis=0)\n",
    "        print(theta[:10])\n",
    "\n",
    "    return theta, best_r"
   ]
  },
  {
   "cell_type": "code",
   "execution_count": 12,
   "metadata": {},
   "outputs": [
    {
     "name": "stdout",
     "output_type": "stream",
     "text": [
      "[-0.05205936  0.04070268 -0.0220608   0.08905913  0.04503125  0.07260447\n",
      " -0.04710801 -0.07290872 -0.02711515  0.03268756]\n",
      "Iteration:  1\n"
     ]
    },
    {
     "name": "stderr",
     "output_type": "stream",
     "text": [
      "100%|██████████| 50/50 [26:06<00:00, 31.33s/it]\n"
     ]
    },
    {
     "name": "stdout",
     "output_type": "stream",
     "text": [
      "best reward: 990.0\n",
      "[-0.02566253  0.1137029   0.10761209  0.1574765   0.00022604  0.03814883\n",
      " -0.06759338 -0.01607048 -0.04650887  0.03660903]\n",
      "Iteration:  2\n"
     ]
    },
    {
     "name": "stderr",
     "output_type": "stream",
     "text": [
      "100%|██████████| 50/50 [15:48<00:00, 18.98s/it]\n"
     ]
    },
    {
     "name": "stdout",
     "output_type": "stream",
     "text": [
      "best reward: 2100.0\n",
      "[-0.06526319  0.01778081 -0.06980343  0.11568959 -0.00729357  0.01925948\n",
      " -0.20770697 -0.08873295  0.01296887 -0.03633232]\n",
      "Iteration:  3\n"
     ]
    },
    {
     "name": "stderr",
     "output_type": "stream",
     "text": [
      "100%|██████████| 50/50 [06:16<00:00,  7.53s/it]\n"
     ]
    },
    {
     "name": "stdout",
     "output_type": "stream",
     "text": [
      "best reward: 810.0\n",
      "[-0.07095615  0.07632264 -0.03121932  0.08742649 -0.124931   -0.06529702\n",
      " -0.26579492 -0.25498386  0.11274938 -0.08395683]\n",
      "Iteration:  4\n"
     ]
    },
    {
     "name": "stderr",
     "output_type": "stream",
     "text": [
      "100%|██████████| 50/50 [06:02<00:00,  7.26s/it]\n"
     ]
    },
    {
     "name": "stdout",
     "output_type": "stream",
     "text": [
      "best reward: 910.0\n",
      "[-0.0026821   0.08951439 -0.07962415  0.16489577 -0.26696471 -0.02695128\n",
      " -0.28409693 -0.22147186  0.17435753 -0.15848622]\n",
      "Iteration:  5\n"
     ]
    },
    {
     "name": "stderr",
     "output_type": "stream",
     "text": [
      "100%|██████████| 50/50 [06:11<00:00,  7.43s/it]\n"
     ]
    },
    {
     "name": "stdout",
     "output_type": "stream",
     "text": [
      "best reward: 900.0\n",
      "[ 0.07862381  0.12079719 -0.02554231  0.05975577 -0.19666054 -0.11967771\n",
      " -0.27316958 -0.30201955  0.19578908 -0.0803045 ]\n",
      "Iteration:  6\n"
     ]
    },
    {
     "name": "stderr",
     "output_type": "stream",
     "text": [
      "100%|██████████| 50/50 [06:30<00:00,  7.81s/it]\n"
     ]
    },
    {
     "name": "stdout",
     "output_type": "stream",
     "text": [
      "best reward: 720.0\n",
      "[ 0.07089142  0.04107431 -0.02489426  0.06171787 -0.20741754 -0.12004632\n",
      " -0.22222532 -0.29690343  0.12829221 -0.10407775]\n",
      "Iteration:  7\n"
     ]
    },
    {
     "name": "stderr",
     "output_type": "stream",
     "text": [
      "100%|██████████| 50/50 [06:20<00:00,  7.61s/it]\n"
     ]
    },
    {
     "name": "stdout",
     "output_type": "stream",
     "text": [
      "best reward: 810.0\n",
      "[ 0.15769772  0.07741152  0.00151499  0.13965578 -0.40896551 -0.10349411\n",
      " -0.2911036  -0.35633912  0.20050068 -0.03206126]\n",
      "Iteration:  8\n"
     ]
    },
    {
     "name": "stderr",
     "output_type": "stream",
     "text": [
      "100%|██████████| 50/50 [06:18<00:00,  7.57s/it]\n"
     ]
    },
    {
     "name": "stdout",
     "output_type": "stream",
     "text": [
      "best reward: 880.0\n",
      "[ 0.13583175 -0.03198896 -0.12007729  0.11511771 -0.47215069 -0.21351076\n",
      " -0.28118361 -0.31055183  0.16207608  0.06658774]\n",
      "Iteration:  9\n"
     ]
    },
    {
     "name": "stderr",
     "output_type": "stream",
     "text": [
      "100%|██████████| 50/50 [06:19<00:00,  7.59s/it]\n"
     ]
    },
    {
     "name": "stdout",
     "output_type": "stream",
     "text": [
      "best reward: 1160.0\n",
      "[ 0.05028823  0.00685562  0.09845939  0.08804207 -0.55685729 -0.25314192\n",
      " -0.29756117 -0.24171206  0.18645404  0.03453927]\n",
      "Iteration:  10\n"
     ]
    },
    {
     "name": "stderr",
     "output_type": "stream",
     "text": [
      "100%|██████████| 50/50 [06:16<00:00,  7.53s/it]\n"
     ]
    },
    {
     "name": "stdout",
     "output_type": "stream",
     "text": [
      "best reward: 460.0\n",
      "[ 0.06501877  0.00083214  0.07168865  0.12378689 -0.58913027 -0.18212103\n",
      " -0.31133053 -0.26802314  0.21158104  0.09380176]\n"
     ]
    }
   ],
   "source": [
    "model = DQN(n_actions=n_actions)\n",
    "theta, rewards = CES(model, 0.1, 5, 50, 10)"
   ]
  },
  {
   "cell_type": "code",
   "execution_count": 13,
   "metadata": {},
   "outputs": [
    {
     "name": "stdout",
     "output_type": "stream",
     "text": [
      "[ 990. 2100.  810.  910.  900.  720.  810.  880. 1160.  460.]\n"
     ]
    }
   ],
   "source": [
    "print(rewards)"
   ]
  },
  {
   "cell_type": "code",
   "execution_count": 14,
   "metadata": {},
   "outputs": [
    {
     "data": {
      "text/plain": [
       "120.0"
      ]
     },
     "execution_count": 14,
     "metadata": {},
     "output_type": "execute_result"
    }
   ],
   "source": [
    "model = get_model_weights(theta, 0, theta)\n",
    "episode(model)"
   ]
  },
  {
   "cell_type": "code",
   "execution_count": 15,
   "metadata": {},
   "outputs": [
    {
     "data": {
      "text/plain": [
       "[0]"
      ]
     },
     "execution_count": 15,
     "metadata": {},
     "output_type": "execute_result"
    }
   ],
   "source": [
    "env.unwrapped.ale.getAvailableDifficulties()"
   ]
  },
  {
   "cell_type": "code",
   "execution_count": null,
   "metadata": {},
   "outputs": [],
   "source": []
  }
 ],
 "metadata": {
  "interpreter": {
   "hash": "6b3a8bbf377d4ca1530282dfc9385f115aa599de11785bf312b469670b0fb4fa"
  },
  "kernelspec": {
   "display_name": "natcom",
   "language": "python",
   "name": "natcom"
  },
  "language_info": {
   "codemirror_mode": {
    "name": "ipython",
    "version": 3
   },
   "file_extension": ".py",
   "mimetype": "text/x-python",
   "name": "python",
   "nbconvert_exporter": "python",
   "pygments_lexer": "ipython3",
   "version": "3.7.11"
  },
  "orig_nbformat": 4
 },
 "nbformat": 4,
 "nbformat_minor": 2
}
